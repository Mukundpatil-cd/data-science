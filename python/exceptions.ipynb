{
 "cells": [
  {
   "cell_type": "markdown",
   "id": "4cbd0d84",
   "metadata": {},
   "source": [
    "# Execptions Handling in Python\n",
    "This notebook covers the basics of exception handling in Python, including how to use try-except blocks to manage errors gracefully.\n",
    "## What is an Exception?\n",
    "An exception is an error that occurs during the execution of a program. When an exception is raised, the normal flow of the program is disrupted, and Python will stop executing the code unless the exception is handled."
   ]
  },
  {
   "cell_type": "code",
   "execution_count": 1,
   "id": "09223132",
   "metadata": {},
   "outputs": [
    {
     "name": "stdout",
     "output_type": "stream",
     "text": [
      "the variable is not assigned\n"
     ]
    }
   ],
   "source": [
    "## exception handling try , except block\n",
    "\n",
    "try:\n",
    "    a=b\n",
    "except:    \n",
    "    print('the variable is not assigned')"
   ]
  },
  {
   "cell_type": "code",
   "execution_count": 6,
   "id": "56571635",
   "metadata": {},
   "outputs": [
    {
     "name": "stdout",
     "output_type": "stream",
     "text": [
      "name 'b' is not defined\n",
      "main exception class\n"
     ]
    }
   ],
   "source": [
    "# with exception func\n",
    " \n",
    "try:\n",
    "    a=b\n",
    "    result=1/0\n",
    "except Exception as ex1:\n",
    "    print(ex1)  \n",
    "    print('main exception class')     "
   ]
  },
  {
   "cell_type": "code",
   "execution_count": 10,
   "id": "369fa122",
   "metadata": {},
   "outputs": [
    {
     "name": "stdout",
     "output_type": "stream",
     "text": [
      "enter valid value\n"
     ]
    }
   ],
   "source": [
    "try:\n",
    "    num=int(input('enter the numbers'))\n",
    "    result=10/num\n",
    "except ValueError:\n",
    "    print('enter valid value')\n",
    "except ZeroDivisionError:        \n",
    "    print('cannot divided by zero')"
   ]
  },
  {
   "cell_type": "code",
   "execution_count": 29,
   "id": "60bc4543",
   "metadata": {},
   "outputs": [
    {
     "name": "stdout",
     "output_type": "stream",
     "text": [
      "name 'b' is not defined\n",
      "File is closed\n",
      "lej ke mar laudo\n",
      "\n"
     ]
    }
   ],
   "source": [
    "# file handling in exception handling\n",
    "try:\n",
    "    file = open('example.txt', 'r')\n",
    "    content = file.read()\n",
    "    a = b\n",
    "    print(content)\n",
    "except FileNotFoundError:\n",
    "    print('The file you requested does not exist')\n",
    "except NameError as ex:\n",
    "    print(ex)\n",
    "finally:\n",
    "    # Check if 'file' exists in locals and is not closed\n",
    "    if 'file' in locals() or not file.closed:\n",
    "        file.close()\n",
    "        print('File is closed')\n",
    "        print(content)\n"
   ]
  },
  {
   "cell_type": "code",
   "execution_count": null,
   "id": "9045f2d8",
   "metadata": {},
   "outputs": [],
   "source": []
  }
 ],
 "metadata": {
  "kernelspec": {
   "display_name": "myenv",
   "language": "python",
   "name": "python3"
  },
  "language_info": {
   "codemirror_mode": {
    "name": "ipython",
    "version": 3
   },
   "file_extension": ".py",
   "mimetype": "text/x-python",
   "name": "python",
   "nbconvert_exporter": "python",
   "pygments_lexer": "ipython3",
   "version": "3.13.5"
  }
 },
 "nbformat": 4,
 "nbformat_minor": 5
}
