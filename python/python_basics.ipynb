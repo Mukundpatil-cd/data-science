{
 "cells": [
  {
   "cell_type": "markdown",
   "id": "b63db533",
   "metadata": {},
   "source": [
    "Python basics \n"
   ]
  },
  {
   "cell_type": "code",
   "execution_count": 2,
   "id": "aff336ab",
   "metadata": {},
   "outputs": [
    {
     "name": "stdout",
     "output_type": "stream",
     "text": [
      "today i am starting to learning python\n"
     ]
    }
   ],
   "source": [
    "print(\"today i am starting to learning python\")"
   ]
  },
  {
   "cell_type": "markdown",
   "id": "46274320",
   "metadata": {},
   "source": [
    "String concatenation , print datatype , change datatype , take input from user\n"
   ]
  },
  {
   "cell_type": "code",
   "execution_count": 25,
   "id": "87d87b4f",
   "metadata": {},
   "outputs": [
    {
     "name": "stdout",
     "output_type": "stream",
     "text": [
      "my name is : 24 45\n",
      "<class 'str'>\n",
      "<class 'int'>\n",
      "both are good\n"
     ]
    }
   ],
   "source": [
    "a = str(input(\"enter your number\"))\n",
    "print(\"my name is : \" + a  + \" \" + str(45))\n",
    "print(type(a))\n",
    "a = int(a)\n",
    "print(type(a))\n",
    "b = int(input(\"enter your number\"))\n",
    "if a > 0 and b > 0 :\n",
    "    print(\"both are good\")\n",
    "else :\n",
    "    print(\"nothings good\")    "
   ]
  },
  {
   "cell_type": "markdown",
   "id": "90ee591b",
   "metadata": {},
   "source": [
    "Data types in Python include integers, floats, strings, and booleans.\n",
    "You can change the data type of a variable using functions like `int()`, `float()`, and `str()`.\n",
    "To take input from the user, you can use the `input()` function, which returns a string.\n",
    "You can concatenate strings using the `+` operator. \n"
   ]
  },
  {
   "cell_type": "code",
   "execution_count": null,
   "id": "718a770b",
   "metadata": {},
   "outputs": [
    {
     "name": "stdout",
     "output_type": "stream",
     "text": [
      "<class 'int'>\n",
      "<class 'float'>\n",
      "<class 'str'>\n",
      "<class 'bool'>\n",
      "<class 'str'>\n"
     ]
    }
   ],
   "source": [
    "a = 23\n",
    "b = 4.5\n",
    "c = \"mukund\"\n",
    "d = True\n",
    "print(type(a))\n",
    "print(type(b))\n",
    "print(type(c))\n",
    "print(type(d))\n",
    "a = str(a)\n",
    "print(type(a))\n"
   ]
  }
 ],
 "metadata": {
  "kernelspec": {
   "display_name": "myenv",
   "language": "python",
   "name": "python3"
  },
  "language_info": {
   "codemirror_mode": {
    "name": "ipython",
    "version": 3
   },
   "file_extension": ".py",
   "mimetype": "text/x-python",
   "name": "python",
   "nbconvert_exporter": "python",
   "pygments_lexer": "ipython3",
   "version": "3.13.5"
  }
 },
 "nbformat": 4,
 "nbformat_minor": 5
}
