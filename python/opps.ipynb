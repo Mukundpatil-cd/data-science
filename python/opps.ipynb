{
 "cells": [
  {
   "cell_type": "markdown",
   "id": "8497c515",
   "metadata": {},
   "source": [
    "## object orianted programming\n",
    "### Classes and Objects\n",
    "classes are blueprints for creating objects. An object is an instance of a class.\n",
    "objects can have attributes (data) and methods (functions)."
   ]
  },
  {
   "cell_type": "code",
   "execution_count": 2,
   "id": "0afe31f9",
   "metadata": {},
   "outputs": [
    {
     "name": "stdout",
     "output_type": "stream",
     "text": [
      "<class '__main__.car'>\n",
      "<__main__.car object at 0x00000292B202C980>\n",
      "<class '__main__.car'>\n",
      "<__main__.car object at 0x00000292B1E3F4D0>\n",
      "4\n"
     ]
    }
   ],
   "source": [
    "# classes\n",
    "class car:\n",
    "    pass\n",
    "\n",
    "audi=car()\n",
    "bmw=car()\n",
    "print(type(audi))\n",
    "print(audi)\n",
    "print(type(bmw))\n",
    "print(bmw)\n",
    "audi.windows=4\n",
    "print(audi.windows)\n"
   ]
  },
  {
   "cell_type": "code",
   "execution_count": 15,
   "id": "d7628f99",
   "metadata": {},
   "outputs": [
    {
     "name": "stdout",
     "output_type": "stream",
     "text": [
      "{'name': 'gabha', 'age': 21, 'lang': 'py'}\n"
     ]
    }
   ],
   "source": [
    "class employee:\n",
    "    emp1={\"name\":'mukund','age':21,'lang':'py'}\n",
    "    emp2={\"name\":'mayur','age':21,'lang':'py'}\n",
    "\n",
    "emp=employee()\n",
    "emp.emp3={\"name\":\"mukund\"}\n",
    "emp.emp1={'name':\"gabha\",'age':21,'lang':'py'}\n",
    "print(emp.emp1)"
   ]
  },
  {
   "cell_type": "code",
   "execution_count": 17,
   "id": "507e11e6",
   "metadata": {},
   "outputs": [
    {
     "name": "stdout",
     "output_type": "stream",
     "text": [
      "the employee info is {'name': 'mukund', 'age': 21, 'lang': 'py'} and {'name': 'mayur', 'age': 21, 'lang': 'py'} \n",
      "None\n"
     ]
    }
   ],
   "source": [
    "# Self paramter\n",
    "class employee:\n",
    "    emp1={\"name\":'mukund','age':21,'lang':'py'}\n",
    "    emp2={\"name\":'mayur','age':21,'lang':'py'}\n",
    "    \n",
    "    def get_info(self):\n",
    "        print(f\"the employee info is {self.emp1} and {self.emp2} \")\n",
    "        \n",
    "emp=employee()\n",
    "print(emp.get_info())"
   ]
  },
  {
   "cell_type": "code",
   "execution_count": 19,
   "id": "10090230",
   "metadata": {},
   "outputs": [
    {
     "name": "stdout",
     "output_type": "stream",
     "text": [
      "the employee info is {'name': 'gabha', 'age': 21, 'lang': 'py'} and {'name': 'mayur', 'age': 21, 'lang': 'py'} \n",
      "None\n"
     ]
    }
   ],
   "source": [
    "# contructers\n",
    "class employee:\n",
    "    emp1={\"name\":'mukund','age':21,'lang':'py'}\n",
    "    emp2={\"name\":'mayur','age':21,'lang':'py'}\n",
    "    \n",
    "    def __init__(self,emp1,emp2):\n",
    "        self.emp1=emp1\n",
    "        self.emp2=emp2\n",
    "    def get_info(self):\n",
    "        print(f\"the employee info is {self.emp1} and {self.emp2} \")\n",
    "        \n",
    "emp=employee(emp1={\"name\":'gabha','age':21,'lang':'py'},emp2={\"name\":'mayur','age':21,'lang':'py'})\n",
    "print(emp.get_info())"
   ]
  },
  {
   "cell_type": "markdown",
   "id": "419d3a2e",
   "metadata": {},
   "source": [
    "### Inheritance\n",
    "Inheritance is a fundamental concept in OOP that allows a class (child class) to inherit attributes and methods from another class (parent class). This promotes code reusability and establishes a relationship between classes.\n"
   ]
  },
  {
   "cell_type": "code",
   "execution_count": 22,
   "id": "24083416",
   "metadata": {},
   "outputs": [
    {
     "name": "stdout",
     "output_type": "stream",
     "text": [
      "animal makes a sound\n",
      "dog says woof\n"
     ]
    }
   ],
   "source": [
    "#single inheritance\n",
    "class animal:\n",
    "    def speak(self):\n",
    "        print(\"animal makes a sound\")\n",
    "\n",
    "class dog(animal):\n",
    "    def bark(self):\n",
    "        print(\"dog says woof\")\n",
    "        \n",
    "d=dog()\n",
    "d.speak()\n",
    "d.bark()"
   ]
  },
  {
   "cell_type": "code",
   "execution_count": 23,
   "id": "d91371c5",
   "metadata": {},
   "outputs": [
    {
     "name": "stdout",
     "output_type": "stream",
     "text": [
      "dog says woof\n"
     ]
    }
   ],
   "source": [
    "#overriding methods in child clss\n",
    "class animal:\n",
    "    def speak(self):\n",
    "        print(\"animal makes a sound\")\n",
    "\n",
    "class dog(animal):\n",
    "    def speak(self):\n",
    "        print(\"dog says woof\")\n",
    "        \n",
    "d=dog()\n",
    "d.speak()\n"
   ]
  },
  {
   "cell_type": "code",
   "execution_count": 28,
   "id": "5fb97c8e",
   "metadata": {},
   "outputs": [
    {
     "name": "stdout",
     "output_type": "stream",
     "text": [
      "parent classs created\n",
      "dog says woof\n"
     ]
    }
   ],
   "source": [
    "#super()\n",
    "class animal:\n",
    "    def __init__(self, name):\n",
    "        self.name=name\n",
    "        print(\"parent classs created\")\n",
    "\n",
    "class dog(animal):\n",
    "    def __init__(self,name , bread):\n",
    "        super().__init__(name)\n",
    "        self.bread=bread\n",
    "        print(\"dog says woof\")\n",
    "        \n",
    "dog =dog(\"gabha\",\"human\")"
   ]
  },
  {
   "cell_type": "code",
   "execution_count": null,
   "id": "5b00eb6a",
   "metadata": {},
   "outputs": [],
   "source": []
  }
 ],
 "metadata": {
  "kernelspec": {
   "display_name": "myenv",
   "language": "python",
   "name": "python3"
  },
  "language_info": {
   "codemirror_mode": {
    "name": "ipython",
    "version": 3
   },
   "file_extension": ".py",
   "mimetype": "text/x-python",
   "name": "python",
   "nbconvert_exporter": "python",
   "pygments_lexer": "ipython3",
   "version": "3.13.5"
  }
 },
 "nbformat": 4,
 "nbformat_minor": 5
}
