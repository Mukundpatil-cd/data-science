{
 "cells": [
  {
   "cell_type": "markdown",
   "id": "8497c515",
   "metadata": {},
   "source": [
    "## object orianted programming\n",
    "### Classes and Objects\n",
    "classes are blueprints for creating objects. An object is an instance of a class.\n",
    "objects can have attributes (data) and methods (functions)."
   ]
  }
 ],
 "metadata": {
  "kernelspec": {
   "display_name": "myenv",
   "language": "python",
   "name": "python3"
  },
  "language_info": {
   "name": "python",
   "version": "3.13.5"
  }
 },
 "nbformat": 4,
 "nbformat_minor": 5
}
