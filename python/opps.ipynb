{
 "cells": [
  {
   "cell_type": "markdown",
   "id": "8497c515",
   "metadata": {},
   "source": [
    "## object orianted programming\n",
    "### Classes and Objects\n",
    "classes are blueprints for creating objects. An object is an instance of a class.\n",
    "objects can have attributes (data) and methods (functions)."
   ]
  },
  {
   "cell_type": "code",
   "execution_count": 2,
   "id": "0afe31f9",
   "metadata": {},
   "outputs": [
    {
     "name": "stdout",
     "output_type": "stream",
     "text": [
      "<class '__main__.car'>\n",
      "<__main__.car object at 0x00000292B202C980>\n",
      "<class '__main__.car'>\n",
      "<__main__.car object at 0x00000292B1E3F4D0>\n",
      "4\n"
     ]
    }
   ],
   "source": [
    "# classes\n",
    "class car:\n",
    "    pass\n",
    "\n",
    "audi=car()\n",
    "bmw=car()\n",
    "print(type(audi))\n",
    "print(audi)\n",
    "print(type(bmw))\n",
    "print(bmw)\n",
    "audi.windows=4\n",
    "print(audi.windows)\n"
   ]
  },
  {
   "cell_type": "code",
   "execution_count": 15,
   "id": "d7628f99",
   "metadata": {},
   "outputs": [
    {
     "name": "stdout",
     "output_type": "stream",
     "text": [
      "{'name': 'gabha', 'age': 21, 'lang': 'py'}\n"
     ]
    }
   ],
   "source": [
    "class employee:\n",
    "    emp1={\"name\":'mukund','age':21,'lang':'py'}\n",
    "    emp2={\"name\":'mayur','age':21,'lang':'py'}\n",
    "\n",
    "emp=employee()\n",
    "emp.emp3={\"name\":\"mukund\"}\n",
    "emp.emp1={'name':\"gabha\",'age':21,'lang':'py'}\n",
    "print(emp.emp1)"
   ]
  },
  {
   "cell_type": "code",
   "execution_count": 17,
   "id": "507e11e6",
   "metadata": {},
   "outputs": [
    {
     "name": "stdout",
     "output_type": "stream",
     "text": [
      "the employee info is {'name': 'mukund', 'age': 21, 'lang': 'py'} and {'name': 'mayur', 'age': 21, 'lang': 'py'} \n",
      "None\n"
     ]
    }
   ],
   "source": [
    "# Self paramter\n",
    "class employee:\n",
    "    emp1={\"name\":'mukund','age':21,'lang':'py'}\n",
    "    emp2={\"name\":'mayur','age':21,'lang':'py'}\n",
    "    \n",
    "    def get_info(self):\n",
    "        print(f\"the employee info is {self.emp1} and {self.emp2} \")\n",
    "        \n",
    "emp=employee()\n",
    "print(emp.get_info())"
   ]
  },
  {
   "cell_type": "code",
   "execution_count": 19,
   "id": "10090230",
   "metadata": {},
   "outputs": [
    {
     "name": "stdout",
     "output_type": "stream",
     "text": [
      "the employee info is {'name': 'gabha', 'age': 21, 'lang': 'py'} and {'name': 'mayur', 'age': 21, 'lang': 'py'} \n",
      "None\n"
     ]
    }
   ],
   "source": [
    "# contructers\n",
    "class employee:\n",
    "    emp1={\"name\":'mukund','age':21,'lang':'py'}\n",
    "    emp2={\"name\":'mayur','age':21,'lang':'py'}\n",
    "    \n",
    "    def __init__(self,emp1,emp2):\n",
    "        self.emp1=emp1\n",
    "        self.emp2=emp2\n",
    "    def get_info(self):\n",
    "        print(f\"the employee info is {self.emp1} and {self.emp2} \")\n",
    "        \n",
    "emp=employee(emp1={\"name\":'gabha','age':21,'lang':'py'},emp2={\"name\":'mayur','age':21,'lang':'py'})\n",
    "print(emp.get_info())"
   ]
  },
  {
   "cell_type": "markdown",
   "id": "419d3a2e",
   "metadata": {},
   "source": [
    "### Inheritance\n",
    "Inheritance is a fundamental concept in OOP that allows a class (child class) to inherit attributes and methods from another class (parent class). This promotes code reusability and establishes a relationship between classes.\n"
   ]
  },
  {
   "cell_type": "code",
   "execution_count": 22,
   "id": "24083416",
   "metadata": {},
   "outputs": [
    {
     "name": "stdout",
     "output_type": "stream",
     "text": [
      "animal makes a sound\n",
      "dog says woof\n"
     ]
    }
   ],
   "source": [
    "#single inheritance\n",
    "class animal:\n",
    "    def speak(self):\n",
    "        print(\"animal makes a sound\")\n",
    "\n",
    "class dog(animal):\n",
    "    def bark(self):\n",
    "        print(\"dog says woof\")\n",
    "        \n",
    "d=dog()\n",
    "d.speak()\n",
    "d.bark()"
   ]
  },
  {
   "cell_type": "code",
   "execution_count": 23,
   "id": "d91371c5",
   "metadata": {},
   "outputs": [
    {
     "name": "stdout",
     "output_type": "stream",
     "text": [
      "dog says woof\n"
     ]
    }
   ],
   "source": [
    "#overriding methods in child clss\n",
    "class animal:\n",
    "    def speak(self):\n",
    "        print(\"animal makes a sound\")\n",
    "\n",
    "class dog(animal):\n",
    "    def speak(self):\n",
    "        print(\"dog says woof\")\n",
    "        \n",
    "d=dog()\n",
    "d.speak()\n"
   ]
  },
  {
   "cell_type": "code",
   "execution_count": 28,
   "id": "5fb97c8e",
   "metadata": {},
   "outputs": [
    {
     "name": "stdout",
     "output_type": "stream",
     "text": [
      "parent classs created\n",
      "dog says woof\n"
     ]
    }
   ],
   "source": [
    "#super()\n",
    "class animal:\n",
    "    def __init__(self, name):\n",
    "        self.name=name\n",
    "        print(\"parent classs created\")\n",
    "\n",
    "class dog(animal):\n",
    "    def __init__(self,name , bread):\n",
    "        super().__init__(name)\n",
    "        self.bread=bread\n",
    "        print(\"dog says woof\")\n",
    "        \n",
    "dog =dog(\"gabha\",\"human\")"
   ]
  },
  {
   "cell_type": "markdown",
   "id": "7e9038c9",
   "metadata": {},
   "source": [
    "### Polymorphism\n",
    "Polymorphism is the ability of different objects to respond to the same method call in their own way. In Python, this is often achieved through method overriding and duck typing.\n"
   ]
  },
  {
   "cell_type": "markdown",
   "id": "98840d6e",
   "metadata": {},
   "source": [
    "### 1 method overriding\n",
    "Method overriding occurs when a subclass provides a specific implementation of a method that is already defined in its superclass. This allows the subclass to customize or extend the behavior of the inherited method.\n",
    "\n"
   ]
  },
  {
   "cell_type": "code",
   "execution_count": null,
   "id": "b57af16a",
   "metadata": {},
   "outputs": [
    {
     "name": "stdout",
     "output_type": "stream",
     "text": [
      "woof\n",
      "woof\n",
      "None\n"
     ]
    }
   ],
   "source": [
    "class animal:\n",
    "    def speak(self):\n",
    "        print(\"animal makes a sound\")\n",
    "\n",
    "class dog(animal):\n",
    "    def speak(self):\n",
    "        print(\"woof\")\n",
    "\n",
    "class cat(animal):\n",
    "    def speak(self):\n",
    "        return \"meow\"\n",
    "\n",
    "def animal_speak(animal):\n",
    "    print(animal.speak())\n",
    "    \n",
    "c=cat()        \n",
    "d=dog()\n",
    "d.speak()\n",
    "c.speak()\n",
    "animal_speak(d)"
   ]
  },
  {
   "cell_type": "code",
   "execution_count": 11,
   "id": "579712b1",
   "metadata": {},
   "outputs": [
    {
     "name": "stdout",
     "output_type": "stream",
     "text": [
      "the area is 138\n",
      "the area is 580.7744\n"
     ]
    }
   ],
   "source": [
    "# polymorphism using function and methods\n",
    "class shape:\n",
    "    def area(self):\n",
    "        print(\"to find the area of the given shape\")\n",
    "\n",
    "class rectangle(shape):\n",
    "    def __init__(self,width,hieght):\n",
    "        self.width=width\n",
    "        self.hieght=hieght\n",
    "        \n",
    "    def area(self):\n",
    "        return self.width*self.hieght\n",
    "    \n",
    "class circle(shape):\n",
    "    def __init__(self,radius):\n",
    "        self.radius=radius\n",
    "        \n",
    "    def area(self):\n",
    "        return 3.14*self.radius*self.radius\n",
    "\n",
    "def print_area(shape):\n",
    "    print(f\"the area is {shape.area()}\")\n",
    "    \n",
    "rct=rectangle(23,6)\n",
    "cir=circle(13.6)\n",
    "print_area(rct)\n",
    "print_area(cir)\n",
    "        \n",
    "        "
   ]
  },
  {
   "cell_type": "code",
   "execution_count": 2,
   "id": "825d4b2d",
   "metadata": {},
   "outputs": [
    {
     "name": "stdout",
     "output_type": "stream",
     "text": [
      "the car engine started\n"
     ]
    }
   ],
   "source": [
    "# polymorphoism with abstract class method\n",
    "from abc import ABC , abstractmethod\n",
    "# define the abstract class\n",
    "class vehicle(ABC):\n",
    "    @abstractmethod\n",
    "    def start_eng(self):\n",
    "        pass\n",
    "    \n",
    "class car(vehicle):\n",
    "    def start_eng(self):\n",
    "        return \"the car engine started\"\n",
    "    \n",
    "class bike(vehicle):\n",
    "    def start_eng(self):\n",
    "        return \"the bike engine started\"\n",
    "\n",
    "def vehicle_eng(vehicle):\n",
    "    print(vehicle.start_eng())\n",
    "    \n",
    "c=car()\n",
    "b=bike()\n",
    "\n",
    "vehicle_eng(c)"
   ]
  },
  {
   "cell_type": "markdown",
   "id": "443882ae",
   "metadata": {},
   "source": [
    "#### Encapsulation\n",
    "Encapsulation is the bundling of data and the methods that operate on that data within a single unit, or class. It restricts direct access to some of the object's components, which can prevent the accidental modification of data. This is typically achieved through the use of access modifiers (like private and public) to control visibility."
   ]
  },
  {
   "cell_type": "code",
   "execution_count": 8,
   "id": "2d84c3d8",
   "metadata": {},
   "outputs": [
    {
     "name": "stdout",
     "output_type": "stream",
     "text": [
      "mukund \n",
      "10000\n",
      "20000\n"
     ]
    }
   ],
   "source": [
    "class student:\n",
    "        def __init__(self,name , balance):\n",
    "            self.name=name\n",
    "            self.__balance=balance\n",
    "            \n",
    "            \n",
    "        def get_balance(self):\n",
    "            return self.__balance\n",
    "        \n",
    "        def deposit(self,balance):\n",
    "            if balance > 0:\n",
    "                self.__balance=balance\n",
    "            else :\n",
    "                print(\"not have enough balance\")      \n",
    "        \n",
    "account = student(\"mukund \",10000)\n",
    "print(account.name)\n",
    "\n",
    "print(account.get_balance())\n",
    "account.deposit(20000)\n",
    "print(account.get_balance())\n",
    "\n",
    "            "
   ]
  },
  {
   "cell_type": "markdown",
   "id": "61bc42c1",
   "metadata": {},
   "source": [
    "### Abstraction\n",
    "\n",
    "Abstraction is the concept of hiding the complex implementation details and showing only the essential features of the object. In Python, abstraction can be achieved using abstract classes and interfaces.\n"
   ]
  }
 ],
 "metadata": {
  "kernelspec": {
   "display_name": "myenv",
   "language": "python",
   "name": "python3"
  },
  "language_info": {
   "codemirror_mode": {
    "name": "ipython",
    "version": 3
   },
   "file_extension": ".py",
   "mimetype": "text/x-python",
   "name": "python",
   "nbconvert_exporter": "python",
   "pygments_lexer": "ipython3",
   "version": "3.13.5"
  }
 },
 "nbformat": 4,
 "nbformat_minor": 5
}
