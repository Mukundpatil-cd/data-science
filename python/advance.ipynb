{
 "cells": [
  {
   "cell_type": "code",
   "execution_count": 19,
   "id": "01b0ea72",
   "metadata": {},
   "outputs": [
    {
     "name": "stdout",
     "output_type": "stream",
     "text": [
      "My name is Mukund and my age is 21\n"
     ]
    }
   ],
   "source": [
    "class vector:\n",
    "    def __init__(self,name ,age):\n",
    "        self.name=name\n",
    "        self.age=age \n",
    "\n",
    "    def __str__(self):\n",
    "        return f\"My name is {self.name} and my age is {self.age}\"\n",
    "\n",
    "vec=vector(\"Mukund\",21)\n",
    "print(vec)"
   ]
  },
  {
   "cell_type": "code",
   "execution_count": 2,
   "id": "fc667a83",
   "metadata": {},
   "outputs": [
    {
     "name": "stdout",
     "output_type": "stream",
     "text": [
      "form(x=164, y=66)\n",
      "form(x=4224, y=1089)\n",
      "form(x=False, y=True)\n",
      "form(x=100, y=0)\n"
     ]
    }
   ],
   "source": [
    "class form:\n",
    "    def __init__(self, x, y):\n",
    "        self.x = x\n",
    "        self.y = y\n",
    "\n",
    "    def __add__(self,other):\n",
    "        return form(self.x + other.x , self.y + other.y)\n",
    "    \n",
    "    def __mul__(self,other):\n",
    "        return form(self.x *other.x , self.y * other.y)\n",
    "    \n",
    "    def __eq__(self,other):\n",
    "        return form(self.x == other.x , self.y == other.y)\n",
    "    \n",
    "    def __sub__(self,other):\n",
    "        return form(self.x - other.x , self.y - other.y)\n",
    "\n",
    "    def __repr__(self):\n",
    "        return f\"form(x={self.x}, y={self.y})\"\n",
    "    \n",
    "    \n",
    "\n",
    "f1 = form(132,33)\n",
    "f2 = form(32,33)\n",
    "print(f1 + f2)\n",
    "print(f1 * f2)\n",
    "print(f1 == f2)\n",
    "print(f1 - f2)\n"
   ]
  }
 ],
 "metadata": {
  "kernelspec": {
   "display_name": "myenv",
   "language": "python",
   "name": "python3"
  },
  "language_info": {
   "codemirror_mode": {
    "name": "ipython",
    "version": 3
   },
   "file_extension": ".py",
   "mimetype": "text/x-python",
   "name": "python",
   "nbconvert_exporter": "python",
   "pygments_lexer": "ipython3",
   "version": "3.13.5"
  }
 },
 "nbformat": 4,
 "nbformat_minor": 5
}
