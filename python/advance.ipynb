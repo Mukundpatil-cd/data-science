{
 "cells": [
  {
   "cell_type": "code",
   "execution_count": 19,
   "id": "01b0ea72",
   "metadata": {},
   "outputs": [
    {
     "name": "stdout",
     "output_type": "stream",
     "text": [
      "My name is Mukund and my age is 21\n"
     ]
    }
   ],
   "source": [
    "class vector:\n",
    "    def __init__(self,name ,age):\n",
    "        self.name=name\n",
    "        self.age=age \n",
    "\n",
    "    def __str__(self):\n",
    "        return f\"My name is {self.name} and my age is {self.age}\"\n",
    "\n",
    "vec=vector(\"Mukund\",21)\n",
    "print(vec)"
   ]
  },
  {
   "cell_type": "code",
   "execution_count": 3,
   "id": "fc667a83",
   "metadata": {},
   "outputs": [
    {
     "name": "stdout",
     "output_type": "stream",
     "text": [
      "form(x=164, y=66)\n",
      "form(x=4224, y=1089)\n",
      "form(x=False, y=True)\n",
      "form(x=100, y=0)\n"
     ]
    }
   ],
   "source": [
    "class form:\n",
    "    def __init__(self, x, y):\n",
    "        self.x = x\n",
    "        self.y = y\n",
    "\n",
    "    def __add__(self,other):\n",
    "        return form(self.x + other.x , self.y + other.y)\n",
    "    \n",
    "    def __mul__(self,other):\n",
    "        return form(self.x *other.x , self.y * other.y)\n",
    "    \n",
    "    def __eq__(self,other):\n",
    "        return form(self.x == other.x , self.y == other.y)\n",
    "    \n",
    "    def __sub__(self,other):\n",
    "        return form(self.x - other.x , self.y - other.y)\n",
    "\n",
    "    def __repr__(self):\n",
    "        return f\"form(x={self.x}, y={self.y})\"\n",
    "    \n",
    "    \n",
    "\n",
    "f1 = form(132,33)\n",
    "f2 = form(32,33)\n",
    "print(f1 + f2)\n",
    "print(f1 * f2)\n",
    "print(f1 == f2)\n",
    "print(f1 - f2)\n"
   ]
  },
  {
   "cell_type": "code",
   "execution_count": null,
   "id": "d3a9e807",
   "metadata": {},
   "outputs": [
    {
     "data": {
      "text/plain": [
       "<generator object sqr at 0x00000257C5958450>"
      ]
     },
     "execution_count": 4,
     "metadata": {},
     "output_type": "execute_result"
    }
   ],
   "source": [
    "### geneataor\n",
    "def sqr(n):\n",
    "    for i in range(3):\n",
    "        yield i**2\n",
    "        \n",
    "sqr(3)"
   ]
  },
  {
   "cell_type": "code",
   "execution_count": 5,
   "id": "db74b4e5",
   "metadata": {},
   "outputs": [
    {
     "name": "stdout",
     "output_type": "stream",
     "text": [
      "0\n",
      "1\n",
      "4\n"
     ]
    }
   ],
   "source": [
    "for i in sqr(3):\n",
    "    print(i)"
   ]
  },
  {
   "cell_type": "code",
   "execution_count": 6,
   "id": "767b0370",
   "metadata": {},
   "outputs": [],
   "source": [
    "def large_file(file_path):\n",
    "    with open(file_path , \"r\") as file:\n",
    "        for line in file:\n",
    "            yield line"
   ]
  },
  {
   "cell_type": "code",
   "execution_count": 7,
   "id": "d6a3fe43",
   "metadata": {},
   "outputs": [
    {
     "name": "stdout",
     "output_type": "stream",
     "text": [
      "Definite article\n",
      "\"Definite article\" redirects here. For the comedy album, see Definite Article.\n",
      "A definite article is an article that marks a definite noun phrase. Definite articles, such as the English the, are used to refer to a particular member of a group. It may be something that the speaker has already mentioned, or it may be otherwise something uniquely specified.\n",
      "\n",
      "For example, Sentence 1 uses the definite article and thus, expresses a request for a particular book. In contrast, Sentence 2 uses an indefinite article and thus, conveys that the speaker would be satisfied with any book.\n",
      "\n",
      "Give me the book.\n",
      "Give me a book.\n",
      "The definite article can also be used in English to indicate a specific class among other classes:\n",
      "\n",
      "The cabbage white butterfly lays its eggs on members of the Brassica genus.\n",
      "However, recent developments show that definite articles are morphological elements linked to certain noun types due to lexicalization. Under this point of view, definiteness does not play a role in the selection of a definite article more than the lexical entry attached to the article.[clarification needed][1][2]\n"
     ]
    }
   ],
   "source": [
    "file_path='file.txt'\n",
    "\n",
    "for line in large_file(file_path):\n",
    "    print(line.strip())"
   ]
  },
  {
   "cell_type": "code",
   "execution_count": null,
   "id": "804cf705",
   "metadata": {},
   "outputs": [],
   "source": []
  }
 ],
 "metadata": {
  "kernelspec": {
   "display_name": "myenv",
   "language": "python",
   "name": "python3"
  },
  "language_info": {
   "codemirror_mode": {
    "name": "ipython",
    "version": 3
   },
   "file_extension": ".py",
   "mimetype": "text/x-python",
   "name": "python",
   "nbconvert_exporter": "python",
   "pygments_lexer": "ipython3",
   "version": "3.13.5"
  }
 },
 "nbformat": 4,
 "nbformat_minor": 5
}
