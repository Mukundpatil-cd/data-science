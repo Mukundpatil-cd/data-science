{
 "cells": [
  {
   "cell_type": "markdown",
   "id": "41e15041",
   "metadata": {},
   "source": [
    "Conditional statements in Python allow you to execute code based on certain conditions."
   ]
  },
  {
   "cell_type": "markdown",
   "id": "cb415cfe",
   "metadata": {},
   "source": [
    "## IF statement"
   ]
  },
  {
   "cell_type": "code",
   "execution_count": 28,
   "id": "e06114b7",
   "metadata": {},
   "outputs": [
    {
     "name": "stdout",
     "output_type": "stream",
     "text": [
      "the number is positive\n"
     ]
    }
   ],
   "source": [
    "a=20\n",
    "if a > 0:\n",
    "    print(\"the number is positive\")"
   ]
  },
  {
   "cell_type": "code",
   "execution_count": 29,
   "id": "0d601058",
   "metadata": {},
   "outputs": [
    {
     "data": {
      "text/plain": [
       "True"
      ]
     },
     "execution_count": 29,
     "metadata": {},
     "output_type": "execute_result"
    }
   ],
   "source": [
    "a > 0"
   ]
  },
  {
   "cell_type": "markdown",
   "id": "b92b3707",
   "metadata": {},
   "source": [
    "## if-else statements"
   ]
  },
  {
   "cell_type": "code",
   "execution_count": 30,
   "id": "4d8556b1",
   "metadata": {},
   "outputs": [
    {
     "name": "stdout",
     "output_type": "stream",
     "text": [
      "the number is negative\n"
     ]
    }
   ],
   "source": [
    "a=-3\n",
    "if a > 0:\n",
    "    print(\"the number is positive\")\n",
    "else :\n",
    "    print(\"the number is negative\")    "
   ]
  },
  {
   "cell_type": "markdown",
   "id": "4ed9275f",
   "metadata": {},
   "source": [
    "## EL-IF statements"
   ]
  },
  {
   "cell_type": "code",
   "execution_count": 31,
   "id": "f101d3cf",
   "metadata": {},
   "outputs": [
    {
     "name": "stdout",
     "output_type": "stream",
     "text": [
      "the number is positive\n"
     ]
    }
   ],
   "source": [
    "a=34\n",
    "if a > 0:\n",
    "    print(\"the number is positive\")\n",
    "elif a == 0:\n",
    "    print(\"the number is zero\")\n",
    "else :\n",
    "    print(\"the number is negative\")   "
   ]
  },
  {
   "cell_type": "markdown",
   "id": "256385e9",
   "metadata": {},
   "source": [
    "## Nested statements"
   ]
  },
  {
   "cell_type": "markdown",
   "id": "0c3fa463",
   "metadata": {},
   "source": [
    "nested statements allow you to check multiple conditions in a structured way. You can nest if-else statements within each other to create complex decision-making structures.\n"
   ]
  },
  {
   "cell_type": "code",
   "execution_count": 32,
   "id": "da7d9bb4",
   "metadata": {},
   "outputs": [
    {
     "name": "stdout",
     "output_type": "stream",
     "text": [
      "the number is positive \n",
      "the number is even\n"
     ]
    }
   ],
   "source": [
    "a = int(input(\"enter the number\"))\n",
    "\n",
    "if a > 0:\n",
    "    print(\"the number is positive \")\n",
    "    if a%2==0:\n",
    "        print(\"the number is even\")\n",
    "    else :\n",
    "        print(\"the number is odd\")    \n",
    "else :\n",
    "    print(\"the number is negative\")        "
   ]
  },
  {
   "cell_type": "code",
   "execution_count": 33,
   "id": "d8c21cb9",
   "metadata": {},
   "outputs": [
    {
     "name": "stdout",
     "output_type": "stream",
     "text": [
      "74 is not a leap year \n"
     ]
    }
   ],
   "source": [
    "## check is the year is leap or not using the nested conditional statements\n",
    "\n",
    "year = int(input(\"enter year to check is it leap or not\"))\n",
    "if year%4==0:\n",
    "    if year%100==0:\n",
    "        if year%400==0:\n",
    "            print(year,\"is a leap year\")\n",
    "        else : \n",
    "            print(year,\"is not a leap year \")    \n",
    "    else : \n",
    "        print(year,\"is a leap year \")               \n",
    "else : \n",
    "    print(year,\"is not a leap year \")                                           "
   ]
  },
  {
   "cell_type": "code",
   "execution_count": 34,
   "id": "632fd089",
   "metadata": {},
   "outputs": [
    {
     "name": "stdout",
     "output_type": "stream",
     "text": [
      "1.0\n"
     ]
    }
   ],
   "source": [
    "## simple calculater program\n",
    "\n",
    "n1 = float(input(\"enter the number \"))\n",
    "n2 = float(input(\"enter the second number \"))\n",
    "operation = input(\"enter operation ( + , - , *, /\")\n",
    "\n",
    "if operation== '+':\n",
    "    print(n1 + n2)\n",
    "elif operation== '-':    \n",
    "    print(n1 - n2)\n",
    "elif operation== '*':\n",
    "    print(n1 * n2)\n",
    "else :\n",
    "    print(n1 / n2 )       "
   ]
  }
 ],
 "metadata": {
  "kernelspec": {
   "display_name": "myenv",
   "language": "python",
   "name": "python3"
  },
  "language_info": {
   "codemirror_mode": {
    "name": "ipython",
    "version": 3
   },
   "file_extension": ".py",
   "mimetype": "text/x-python",
   "name": "python",
   "nbconvert_exporter": "python",
   "pygments_lexer": "ipython3",
   "version": "3.13.5"
  }
 },
 "nbformat": 4,
 "nbformat_minor": 5
}
