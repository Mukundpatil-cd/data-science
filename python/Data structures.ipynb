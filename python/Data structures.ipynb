{
 "cells": [
  {
   "cell_type": "markdown",
   "id": "e3e76e5b",
   "metadata": {},
   "source": [
    "#Data structures in Python"
   ]
  },
  {
   "cell_type": "markdown",
   "id": "284cd596",
   "metadata": {},
   "source": [
    "## 1. Lists"
   ]
  },
  {
   "cell_type": "code",
   "execution_count": 1,
   "id": "e2bd6c24",
   "metadata": {},
   "outputs": [
    {
     "name": "stdout",
     "output_type": "stream",
     "text": [
      "<class 'list'>\n"
     ]
    }
   ],
   "source": [
    "lst=[]\n",
    "print(type(lst))"
   ]
  },
  {
   "cell_type": "code",
   "execution_count": 3,
   "id": "5584b25f",
   "metadata": {},
   "outputs": [
    {
     "name": "stdout",
     "output_type": "stream",
     "text": [
      "['mukund', 'mayur', 'om', 1, 2, 3, 4, 5]\n"
     ]
    }
   ],
   "source": [
    "names=[\"mukund\",\"mayur\",\"om\",1,2,3,4,5,]\n",
    "print(names)"
   ]
  },
  {
   "cell_type": "code",
   "execution_count": 4,
   "id": "9b6ae249",
   "metadata": {},
   "outputs": [
    {
     "name": "stdout",
     "output_type": "stream",
     "text": [
      "[1, 'mukund', 3.12, True]\n"
     ]
    }
   ],
   "source": [
    "mixed_list=[1,\"mukund\",3.12,True]\n",
    "print(mixed_list)"
   ]
  },
  {
   "cell_type": "code",
   "execution_count": 15,
   "id": "731bfeca",
   "metadata": {},
   "outputs": [
    {
     "name": "stdout",
     "output_type": "stream",
     "text": [
      "apple\n",
      "kivi\n",
      "mango\n"
     ]
    }
   ],
   "source": [
    "#accessing list elements\n",
    "fruits=[\"mango\",\"chiku\",\"apple\",\"kivi\"]\n",
    "print(fruits[2])\n",
    "print(fruits[-1])\n",
    "print(fruits[0])\n",
    "\n"
   ]
  },
  {
   "cell_type": "code",
   "execution_count": 16,
   "id": "a6c0ad62",
   "metadata": {},
   "outputs": [
    {
     "name": "stdout",
     "output_type": "stream",
     "text": [
      "['chiku', 'apple', 'kivi']\n",
      "['chiku', 'apple']\n"
     ]
    }
   ],
   "source": [
    "#get multiple elements\n",
    "print(fruits[1:])\n",
    "print(fruits[1:3])"
   ]
  },
  {
   "cell_type": "code",
   "execution_count": 17,
   "id": "1c62af8a",
   "metadata": {},
   "outputs": [
    {
     "name": "stdout",
     "output_type": "stream",
     "text": [
      "['mango', 'chiku', 'guava', 'kivi']\n"
     ]
    }
   ],
   "source": [
    "#modifying list elements\n",
    "fruits[2]=\"guava\"\n",
    "print(fruits)"
   ]
  },
  {
   "cell_type": "code",
   "execution_count": 19,
   "id": "f17f2b14",
   "metadata": {},
   "outputs": [
    {
     "name": "stdout",
     "output_type": "stream",
     "text": [
      "['mango', 'chiku', 'guava', 'kivi', 'apple']\n"
     ]
    }
   ],
   "source": [
    "#List Methods\n",
    "#1 . append\n",
    "fruits.append(\"apple\")\n",
    "print(fruits)"
   ]
  },
  {
   "cell_type": "code",
   "execution_count": 20,
   "id": "2838d64d",
   "metadata": {},
   "outputs": [
    {
     "name": "stdout",
     "output_type": "stream",
     "text": [
      "['chiku', 'guava', 'kivi', 'apple']\n"
     ]
    }
   ],
   "source": [
    "#2.remove\n",
    "fruits.remove(\"mango\")\n",
    "print(fruits)"
   ]
  },
  {
   "cell_type": "code",
   "execution_count": 24,
   "id": "952b1798",
   "metadata": {},
   "outputs": [
    {
     "name": "stdout",
     "output_type": "stream",
     "text": [
      "['mango', 'mango', 'mango', 'mango', 'chiku', 'guava', 'kivi', 'apple']\n"
     ]
    }
   ],
   "source": [
    "#3. insert\n",
    "fruits.insert(0,\"mango\")\n",
    "print(fruits)"
   ]
  },
  {
   "cell_type": "code",
   "execution_count": 41,
   "id": "526a2c77",
   "metadata": {},
   "outputs": [
    {
     "name": "stdout",
     "output_type": "stream",
     "text": [
      "['mango', 'chiku', 'apple', 'guava']\n"
     ]
    }
   ],
   "source": [
    "#4. pop\n",
    "\n",
    "fruits=[\"mango\",\"chiku\",\"apple\",\"guava\",\"kivi\"]\n",
    "fruits.pop()\n",
    "print(fruits)"
   ]
  },
  {
   "cell_type": "code",
   "execution_count": 43,
   "id": "5fb8d4c1",
   "metadata": {},
   "outputs": [
    {
     "name": "stdout",
     "output_type": "stream",
     "text": [
      "['apple', 'chiku', 'guava', 'mango']\n",
      "['mango', 'guava', 'chiku', 'apple']\n"
     ]
    }
   ],
   "source": [
    "fruits.sort()\n",
    "print(fruits)\n",
    "fruits.reverse()\n",
    "print(fruits)"
   ]
  },
  {
   "cell_type": "code",
   "execution_count": 7,
   "id": "6edc3ef5",
   "metadata": {},
   "outputs": [
    {
     "name": "stdout",
     "output_type": "stream",
     "text": [
      "[3, 4, 5]\n",
      "[1, 2, 3, 4, 5]\n",
      "[6, 7, 8, 9, 10]\n",
      "[1, 3, 5, 7, 9]\n",
      "[10, 9, 8, 7, 6, 5, 4, 3, 2, 1]\n"
     ]
    }
   ],
   "source": [
    "numbers=[1,2,3,4,5,6,7,8,9,10]\n",
    "print(numbers[2:5])\n",
    "print(numbers[:5])\n",
    "print(numbers[5:])\n",
    "print(numbers[::2])\n",
    "print(numbers[::-1])"
   ]
  },
  {
   "cell_type": "code",
   "execution_count": 8,
   "id": "ec2df38c",
   "metadata": {},
   "outputs": [
    {
     "name": "stdout",
     "output_type": "stream",
     "text": [
      "1\n",
      "2\n",
      "3\n",
      "4\n",
      "5\n",
      "6\n",
      "7\n",
      "8\n",
      "9\n",
      "10\n"
     ]
    }
   ],
   "source": [
    "# iterating over list\n",
    "for number in numbers:\n",
    "    print(number)"
   ]
  },
  {
   "cell_type": "code",
   "execution_count": 9,
   "id": "6c35c592",
   "metadata": {},
   "outputs": [
    {
     "name": "stdout",
     "output_type": "stream",
     "text": [
      "0 1\n",
      "1 2\n",
      "2 3\n",
      "3 4\n",
      "4 5\n",
      "5 6\n",
      "6 7\n",
      "7 8\n",
      "8 9\n",
      "9 10\n"
     ]
    }
   ],
   "source": [
    "#with index use enumerate\n",
    "for index, number in enumerate(numbers):\n",
    "    print(index, number)"
   ]
  },
  {
   "cell_type": "code",
   "execution_count": null,
   "id": "09a9d367",
   "metadata": {},
   "outputs": [
    {
     "name": "stdout",
     "output_type": "stream",
     "text": [
      "[0, 1, 4, 9, 16, 25, 36, 49, 64, 81]\n"
     ]
    }
   ],
   "source": [
    "#List comprehension basic syntax\n",
    "\n",
    "square=[x**2 for x in range(10)]\n",
    "print(square)"
   ]
  },
  {
   "cell_type": "code",
   "execution_count": 5,
   "id": "c406be76",
   "metadata": {},
   "outputs": [
    {
     "name": "stdout",
     "output_type": "stream",
     "text": [
      "[0, 2, 4, 6, 8]\n"
     ]
    }
   ],
   "source": [
    "#with conditional logic\n",
    "en=[num for num in range(10) if num%2==0]\n",
    "print(en)"
   ]
  },
  {
   "cell_type": "code",
   "execution_count": 6,
   "id": "36321e3f",
   "metadata": {},
   "outputs": [
    {
     "name": "stdout",
     "output_type": "stream",
     "text": [
      "[[1, 'a'], [1, 'b'], [1, 'c'], [2, 'a'], [2, 'b'], [2, 'c'], [3, 'a'], [3, 'b'], [3, 'c']]\n"
     ]
    }
   ],
   "source": [
    "# Nested list comprehension\n",
    "\n",
    "lst1=[1,2,3]\n",
    "lst2=[\"a\",\"b\",\"c\"]\n",
    "\n",
    "mix=[[i,j] for i in lst1 for j in lst2]\n",
    "print(mix)"
   ]
  },
  {
   "cell_type": "markdown",
   "id": "42b79d6f",
   "metadata": {},
   "source": [
    "## tuples \n",
    "A tuple is a collection which is ordered and unchangeable. Allows duplicate members.\n",
    "\n",
    "```python"
   ]
  },
  {
   "cell_type": "code",
   "execution_count": 7,
   "id": "09752fdd",
   "metadata": {},
   "outputs": [
    {
     "name": "stdout",
     "output_type": "stream",
     "text": [
      "()\n",
      "<class 'tuple'>\n"
     ]
    }
   ],
   "source": [
    "#creating the tuple \n",
    "empty_tuple=()\n",
    "print(empty_tuple)\n",
    "print(type(empty_tuple))"
   ]
  },
  {
   "cell_type": "code",
   "execution_count": 9,
   "id": "12031602",
   "metadata": {},
   "outputs": [],
   "source": [
    "\n",
    "num=(1,2,3,4,5,6)\n",
    "num\n",
    "letter=(\"mukund\",1,3.14,True)"
   ]
  },
  {
   "cell_type": "code",
   "execution_count": 5,
   "id": "8fc974b2",
   "metadata": {},
   "outputs": [
    {
     "name": "stdout",
     "output_type": "stream",
     "text": [
      "1\n",
      "5\n",
      "[1, 2, 3]\n"
     ]
    }
   ],
   "source": [
    "#accessing tuple \n",
    "print(num[0])\n",
    "print(num[4])\n",
    "print(num[0:3])"
   ]
  },
  {
   "cell_type": "code",
   "execution_count": 11,
   "id": "03cb6434",
   "metadata": {},
   "outputs": [
    {
     "name": "stdout",
     "output_type": "stream",
     "text": [
      "(1, 2, 3, 4, 5, 6, 'mukund', 1, 3.14, True)\n"
     ]
    }
   ],
   "source": [
    "#TUPLE OPERTAION\n",
    "#1. concatination\n",
    "conc_tuple= num + letter\n",
    "print(conc_tuple)"
   ]
  },
  {
   "cell_type": "code",
   "execution_count": 14,
   "id": "e800928b",
   "metadata": {},
   "outputs": [
    {
     "name": "stdout",
     "output_type": "stream",
     "text": [
      "(1, 3.14, 'mukund')\n",
      "1\n",
      "3.14\n",
      "mukund\n"
     ]
    }
   ],
   "source": [
    "#packing and unpacking tuple \n",
    "#packing\n",
    "p_tuple=1,3.14,\"mukund\"\n",
    "print(p_tuple)\n",
    "#unpacking\n",
    "a,b,c=p_tuple\n",
    "print(a)\n",
    "print(b)\n",
    "print(c)"
   ]
  },
  {
   "cell_type": "code",
   "execution_count": 1,
   "id": "4a64be19",
   "metadata": {},
   "outputs": [],
   "source": [
    "#nested iterating\n",
    "nested_tpl=((1,2,3),(\"mukund\",\"patil\"),(3.14,4,))\n"
   ]
  },
  {
   "cell_type": "code",
   "execution_count": 3,
   "id": "016ddd48",
   "metadata": {},
   "outputs": [
    {
     "name": "stdout",
     "output_type": "stream",
     "text": [
      "1 2 3 \n",
      "mukund patil \n",
      "3.14 4 \n"
     ]
    }
   ],
   "source": [
    "for tpl in nested_tpl:\n",
    "    for vastu in tpl:\n",
    "        print(vastu,end=\" \")\n",
    "    print()"
   ]
  },
  {
   "cell_type": "markdown",
   "id": "c3ab7a5c",
   "metadata": {},
   "source": [
    "## SETS \n",
    "sets are collections which are unordered, unchangeable, and do not allow duplicate members.\n",
    "\n",
    "```python"
   ]
  },
  {
   "cell_type": "code",
   "execution_count": 4,
   "id": "1242f8c0",
   "metadata": {},
   "outputs": [
    {
     "name": "stdout",
     "output_type": "stream",
     "text": [
      "{1, 2, 3, 4, 5, 6}\n",
      "<class 'set'>\n"
     ]
    }
   ],
   "source": [
    "# creating a sets \n",
    "my_set={1,2,3,4,5,6}\n",
    "print(my_set)\n",
    "print(type(my_set))"
   ]
  },
  {
   "cell_type": "code",
   "execution_count": 7,
   "id": "9b7edf00",
   "metadata": {},
   "outputs": [
    {
     "name": "stdout",
     "output_type": "stream",
     "text": [
      "{1, 2, 3, 4, 5, 6, 7}\n",
      "{1, 2, 3, 5, 6, 7}\n"
     ]
    }
   ],
   "source": [
    "#add or remove elements\n",
    "my_set.add(7)\n",
    "print(my_set)\n",
    "my_set.remove(4)\n",
    "print(my_set)\n"
   ]
  },
  {
   "cell_type": "code",
   "execution_count": 8,
   "id": "bb1b71cd",
   "metadata": {},
   "outputs": [
    {
     "name": "stdout",
     "output_type": "stream",
     "text": [
      "{2, 3, 5, 6, 7}\n"
     ]
    }
   ],
   "source": [
    "#pop \n",
    "my_set.pop()\n",
    "print(my_set)"
   ]
  },
  {
   "cell_type": "code",
   "execution_count": 13,
   "id": "99108797",
   "metadata": {},
   "outputs": [
    {
     "name": "stdout",
     "output_type": "stream",
     "text": [
      "{0, 1, 2, 3, 4, 5, 6, 7, 8, 9}\n"
     ]
    }
   ],
   "source": [
    "#mathematical operation \n",
    "set1={1,2,3,4,5,6,7}\n",
    "set2={6,7,8,9,0}\n",
    "u_set=set1.union(set2)\n",
    "print(u_set)\n"
   ]
  },
  {
   "cell_type": "code",
   "execution_count": 16,
   "id": "7f80d3d3",
   "metadata": {},
   "outputs": [
    {
     "name": "stdout",
     "output_type": "stream",
     "text": [
      "{6, 7}\n"
     ]
    }
   ],
   "source": [
    "\n",
    "#intersection\n",
    "i_set=set1.intersection(set2)\n",
    "print(i_set)"
   ]
  },
  {
   "cell_type": "code",
   "execution_count": 17,
   "id": "c8372ea7",
   "metadata": {},
   "outputs": [
    {
     "name": "stdout",
     "output_type": "stream",
     "text": [
      "{6, 7}\n"
     ]
    }
   ],
   "source": [
    "# intersection_update\n",
    "set1.intersection_update(set2)\n",
    "print(set1)"
   ]
  },
  {
   "cell_type": "code",
   "execution_count": null,
   "id": "f85d2f26",
   "metadata": {},
   "outputs": [
    {
     "name": "stdout",
     "output_type": "stream",
     "text": [
      "{1, 2, 3, 4, 5, 6, 7}\n",
      "{0, 6, 7, 8, 9}\n"
     ]
    }
   ],
   "source": [
    "set1={1,2,3,4,5,6,7}\n",
    "set2={6,7,8,9,0}\n",
    "print(set1)\n",
    "print(set2)\n"
   ]
  }
 ],
 "metadata": {
  "kernelspec": {
   "display_name": "myenv",
   "language": "python",
   "name": "python3"
  },
  "language_info": {
   "codemirror_mode": {
    "name": "ipython",
    "version": 3
   },
   "file_extension": ".py",
   "mimetype": "text/x-python",
   "name": "python",
   "nbconvert_exporter": "python",
   "pygments_lexer": "ipython3",
   "version": "3.13.5"
  }
 },
 "nbformat": 4,
 "nbformat_minor": 5
}
