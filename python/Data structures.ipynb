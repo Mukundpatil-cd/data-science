{
 "cells": [
  {
   "cell_type": "markdown",
   "id": "e3e76e5b",
   "metadata": {},
   "source": [
    "#Data structures in Python"
   ]
  },
  {
   "cell_type": "markdown",
   "id": "284cd596",
   "metadata": {},
   "source": [
    "## 1. Lists"
   ]
  },
  {
   "cell_type": "code",
<<<<<<< HEAD
   "execution_count": null,
   "id": "e2bd6c24",
   "metadata": {},
   "outputs": [],
=======
   "execution_count": 1,
   "id": "e2bd6c24",
   "metadata": {},
   "outputs": [
    {
     "name": "stdout",
     "output_type": "stream",
     "text": [
      "<class 'list'>\n"
     ]
    }
   ],
>>>>>>> bbc920374470259b5c719a7bb94c1b2985cde13d
   "source": [
    "lst=[]\n",
    "print(type(lst))"
   ]
  },
  {
   "cell_type": "code",
<<<<<<< HEAD
   "execution_count": null,
   "id": "5584b25f",
   "metadata": {},
   "outputs": [],
=======
   "execution_count": 3,
   "id": "5584b25f",
   "metadata": {},
   "outputs": [
    {
     "name": "stdout",
     "output_type": "stream",
     "text": [
      "['mukund', 'mayur', 'om', 1, 2, 3, 4, 5]\n"
     ]
    }
   ],
>>>>>>> bbc920374470259b5c719a7bb94c1b2985cde13d
   "source": [
    "names=[\"mukund\",\"mayur\",\"om\",1,2,3,4,5,]\n",
    "print(names)"
   ]
  },
  {
   "cell_type": "code",
<<<<<<< HEAD
   "execution_count": null,
   "id": "9b6ae249",
   "metadata": {},
   "outputs": [],
=======
   "execution_count": 4,
   "id": "9b6ae249",
   "metadata": {},
   "outputs": [
    {
     "name": "stdout",
     "output_type": "stream",
     "text": [
      "[1, 'mukund', 3.12, True]\n"
     ]
    }
   ],
>>>>>>> bbc920374470259b5c719a7bb94c1b2985cde13d
   "source": [
    "mixed_list=[1,\"mukund\",3.12,True]\n",
    "print(mixed_list)"
   ]
  },
  {
   "cell_type": "code",
<<<<<<< HEAD
   "execution_count": null,
   "id": "731bfeca",
   "metadata": {},
   "outputs": [],
=======
   "execution_count": 15,
   "id": "731bfeca",
   "metadata": {},
   "outputs": [
    {
     "name": "stdout",
     "output_type": "stream",
     "text": [
      "apple\n",
      "kivi\n",
      "mango\n"
     ]
    }
   ],
>>>>>>> bbc920374470259b5c719a7bb94c1b2985cde13d
   "source": [
    "#accessing list elements\n",
    "fruits=[\"mango\",\"chiku\",\"apple\",\"kivi\"]\n",
    "print(fruits[2])\n",
    "print(fruits[-1])\n",
    "print(fruits[0])\n",
    "\n"
   ]
  },
  {
   "cell_type": "code",
<<<<<<< HEAD
   "execution_count": null,
   "id": "a6c0ad62",
   "metadata": {},
   "outputs": [],
=======
   "execution_count": 16,
   "id": "a6c0ad62",
   "metadata": {},
   "outputs": [
    {
     "name": "stdout",
     "output_type": "stream",
     "text": [
      "['chiku', 'apple', 'kivi']\n",
      "['chiku', 'apple']\n"
     ]
    }
   ],
>>>>>>> bbc920374470259b5c719a7bb94c1b2985cde13d
   "source": [
    "#get multiple elements\n",
    "print(fruits[1:])\n",
    "print(fruits[1:3])"
   ]
  },
  {
   "cell_type": "code",
<<<<<<< HEAD
   "execution_count": null,
   "id": "1c62af8a",
   "metadata": {},
   "outputs": [],
=======
   "execution_count": 17,
   "id": "1c62af8a",
   "metadata": {},
   "outputs": [
    {
     "name": "stdout",
     "output_type": "stream",
     "text": [
      "['mango', 'chiku', 'guava', 'kivi']\n"
     ]
    }
   ],
>>>>>>> bbc920374470259b5c719a7bb94c1b2985cde13d
   "source": [
    "#modifying list elements\n",
    "fruits[2]=\"guava\"\n",
    "print(fruits)"
   ]
  },
  {
   "cell_type": "code",
<<<<<<< HEAD
   "execution_count": null,
   "id": "f17f2b14",
   "metadata": {},
   "outputs": [],
=======
   "execution_count": 19,
   "id": "f17f2b14",
   "metadata": {},
   "outputs": [
    {
     "name": "stdout",
     "output_type": "stream",
     "text": [
      "['mango', 'chiku', 'guava', 'kivi', 'apple']\n"
     ]
    }
   ],
>>>>>>> bbc920374470259b5c719a7bb94c1b2985cde13d
   "source": [
    "#List Methods\n",
    "#1 . append\n",
    "fruits.append(\"apple\")\n",
    "print(fruits)"
   ]
  },
  {
   "cell_type": "code",
<<<<<<< HEAD
   "execution_count": null,
   "id": "2838d64d",
   "metadata": {},
   "outputs": [],
=======
   "execution_count": 20,
   "id": "2838d64d",
   "metadata": {},
   "outputs": [
    {
     "name": "stdout",
     "output_type": "stream",
     "text": [
      "['chiku', 'guava', 'kivi', 'apple']\n"
     ]
    }
   ],
>>>>>>> bbc920374470259b5c719a7bb94c1b2985cde13d
   "source": [
    "#2.remove\n",
    "fruits.remove(\"mango\")\n",
    "print(fruits)"
   ]
  },
  {
   "cell_type": "code",
<<<<<<< HEAD
   "execution_count": null,
   "id": "952b1798",
   "metadata": {},
   "outputs": [],
=======
   "execution_count": 24,
   "id": "952b1798",
   "metadata": {},
   "outputs": [
    {
     "name": "stdout",
     "output_type": "stream",
     "text": [
      "['mango', 'mango', 'mango', 'mango', 'chiku', 'guava', 'kivi', 'apple']\n"
     ]
    }
   ],
>>>>>>> bbc920374470259b5c719a7bb94c1b2985cde13d
   "source": [
    "#3. insert\n",
    "fruits.insert(0,\"mango\")\n",
    "print(fruits)"
   ]
  },
  {
   "cell_type": "code",
<<<<<<< HEAD
   "execution_count": null,
   "id": "526a2c77",
   "metadata": {},
   "outputs": [],
=======
   "execution_count": 41,
   "id": "526a2c77",
   "metadata": {},
   "outputs": [
    {
     "name": "stdout",
     "output_type": "stream",
     "text": [
      "['mango', 'chiku', 'apple', 'guava']\n"
     ]
    }
   ],
>>>>>>> bbc920374470259b5c719a7bb94c1b2985cde13d
   "source": [
    "#4. pop\n",
    "\n",
    "fruits=[\"mango\",\"chiku\",\"apple\",\"guava\",\"kivi\"]\n",
    "fruits.pop()\n",
    "print(fruits)"
   ]
  },
  {
   "cell_type": "code",
<<<<<<< HEAD
   "execution_count": null,
   "id": "5fb8d4c1",
   "metadata": {},
   "outputs": [],
=======
   "execution_count": 43,
   "id": "5fb8d4c1",
   "metadata": {},
   "outputs": [
    {
     "name": "stdout",
     "output_type": "stream",
     "text": [
      "['apple', 'chiku', 'guava', 'mango']\n",
      "['mango', 'guava', 'chiku', 'apple']\n"
     ]
    }
   ],
>>>>>>> bbc920374470259b5c719a7bb94c1b2985cde13d
   "source": [
    "fruits.sort()\n",
    "print(fruits)\n",
    "fruits.reverse()\n",
    "print(fruits)"
   ]
  },
  {
   "cell_type": "code",
<<<<<<< HEAD
   "execution_count": null,
   "id": "6edc3ef5",
   "metadata": {},
   "outputs": [],
=======
   "execution_count": 7,
   "id": "6edc3ef5",
   "metadata": {},
   "outputs": [
    {
     "name": "stdout",
     "output_type": "stream",
     "text": [
      "[3, 4, 5]\n",
      "[1, 2, 3, 4, 5]\n",
      "[6, 7, 8, 9, 10]\n",
      "[1, 3, 5, 7, 9]\n",
      "[10, 9, 8, 7, 6, 5, 4, 3, 2, 1]\n"
     ]
    }
   ],
>>>>>>> bbc920374470259b5c719a7bb94c1b2985cde13d
   "source": [
    "numbers=[1,2,3,4,5,6,7,8,9,10]\n",
    "print(numbers[2:5])\n",
    "print(numbers[:5])\n",
    "print(numbers[5:])\n",
    "print(numbers[::2])\n",
    "print(numbers[::-1])"
   ]
  },
  {
   "cell_type": "code",
<<<<<<< HEAD
   "execution_count": null,
   "id": "ec2df38c",
   "metadata": {},
   "outputs": [],
=======
   "execution_count": 8,
   "id": "ec2df38c",
   "metadata": {},
   "outputs": [
    {
     "name": "stdout",
     "output_type": "stream",
     "text": [
      "1\n",
      "2\n",
      "3\n",
      "4\n",
      "5\n",
      "6\n",
      "7\n",
      "8\n",
      "9\n",
      "10\n"
     ]
    }
   ],
>>>>>>> bbc920374470259b5c719a7bb94c1b2985cde13d
   "source": [
    "# iterating over list\n",
    "for number in numbers:\n",
    "    print(number)"
   ]
  },
  {
   "cell_type": "code",
<<<<<<< HEAD
   "execution_count": null,
   "id": "6c35c592",
   "metadata": {},
   "outputs": [],
=======
   "execution_count": 9,
   "id": "6c35c592",
   "metadata": {},
   "outputs": [
    {
     "name": "stdout",
     "output_type": "stream",
     "text": [
      "0 1\n",
      "1 2\n",
      "2 3\n",
      "3 4\n",
      "4 5\n",
      "5 6\n",
      "6 7\n",
      "7 8\n",
      "8 9\n",
      "9 10\n"
     ]
    }
   ],
>>>>>>> bbc920374470259b5c719a7bb94c1b2985cde13d
   "source": [
    "#with index use enumerate\n",
    "for index, number in enumerate(numbers):\n",
    "    print(index, number)"
   ]
  },
  {
   "cell_type": "code",
   "execution_count": null,
   "id": "09a9d367",
   "metadata": {},
<<<<<<< HEAD
   "outputs": [],
=======
   "outputs": [
    {
     "name": "stdout",
     "output_type": "stream",
     "text": [
      "[0, 1, 4, 9, 16, 25, 36, 49, 64, 81]\n"
     ]
    }
   ],
>>>>>>> bbc920374470259b5c719a7bb94c1b2985cde13d
   "source": [
    "#List comprehension basic syntax\n",
    "\n",
    "square=[x**2 for x in range(10)]\n",
    "print(square)"
   ]
  },
  {
   "cell_type": "code",
<<<<<<< HEAD
   "execution_count": null,
   "id": "c406be76",
   "metadata": {},
   "outputs": [],
=======
   "execution_count": 5,
   "id": "c406be76",
   "metadata": {},
   "outputs": [
    {
     "name": "stdout",
     "output_type": "stream",
     "text": [
      "[0, 2, 4, 6, 8]\n"
     ]
    }
   ],
>>>>>>> bbc920374470259b5c719a7bb94c1b2985cde13d
   "source": [
    "#with conditional logic\n",
    "en=[num for num in range(10) if num%2==0]\n",
    "print(en)"
   ]
  },
  {
   "cell_type": "code",
<<<<<<< HEAD
   "execution_count": null,
   "id": "36321e3f",
   "metadata": {},
   "outputs": [],
=======
   "execution_count": 6,
   "id": "36321e3f",
   "metadata": {},
   "outputs": [
    {
     "name": "stdout",
     "output_type": "stream",
     "text": [
      "[[1, 'a'], [1, 'b'], [1, 'c'], [2, 'a'], [2, 'b'], [2, 'c'], [3, 'a'], [3, 'b'], [3, 'c']]\n"
     ]
    }
   ],
>>>>>>> bbc920374470259b5c719a7bb94c1b2985cde13d
   "source": [
    "# Nested list comprehension\n",
    "\n",
    "lst1=[1,2,3]\n",
    "lst2=[\"a\",\"b\",\"c\"]\n",
    "\n",
    "mix=[[i,j] for i in lst1 for j in lst2]\n",
    "print(mix)"
   ]
  },
  {
   "cell_type": "markdown",
   "id": "42b79d6f",
   "metadata": {},
   "source": [
    "## tuples \n",
    "A tuple is a collection which is ordered and unchangeable. Allows duplicate members.\n",
    "\n",
    "```python"
   ]
  },
  {
   "cell_type": "code",
<<<<<<< HEAD
   "execution_count": null,
   "id": "09752fdd",
   "metadata": {},
   "outputs": [],
=======
   "execution_count": 7,
   "id": "09752fdd",
   "metadata": {},
   "outputs": [
    {
     "name": "stdout",
     "output_type": "stream",
     "text": [
      "()\n",
      "<class 'tuple'>\n"
     ]
    }
   ],
>>>>>>> bbc920374470259b5c719a7bb94c1b2985cde13d
   "source": [
    "#creating the tuple \n",
    "empty_tuple=()\n",
    "print(empty_tuple)\n",
    "print(type(empty_tuple))"
   ]
  },
  {
   "cell_type": "code",
<<<<<<< HEAD
   "execution_count": null,
=======
   "execution_count": 9,
>>>>>>> bbc920374470259b5c719a7bb94c1b2985cde13d
   "id": "12031602",
   "metadata": {},
   "outputs": [],
   "source": [
    "\n",
    "num=(1,2,3,4,5,6)\n",
    "num\n",
    "letter=(\"mukund\",1,3.14,True)"
   ]
  },
  {
   "cell_type": "code",
<<<<<<< HEAD
   "execution_count": null,
   "id": "8fc974b2",
   "metadata": {},
   "outputs": [],
=======
   "execution_count": 5,
   "id": "8fc974b2",
   "metadata": {},
   "outputs": [
    {
     "name": "stdout",
     "output_type": "stream",
     "text": [
      "1\n",
      "5\n",
      "[1, 2, 3]\n"
     ]
    }
   ],
>>>>>>> bbc920374470259b5c719a7bb94c1b2985cde13d
   "source": [
    "#accessing tuple \n",
    "print(num[0])\n",
    "print(num[4])\n",
    "print(num[0:3])"
   ]
  },
  {
   "cell_type": "code",
<<<<<<< HEAD
   "execution_count": null,
   "id": "03cb6434",
   "metadata": {},
   "outputs": [],
=======
   "execution_count": 11,
   "id": "03cb6434",
   "metadata": {},
   "outputs": [
    {
     "name": "stdout",
     "output_type": "stream",
     "text": [
      "(1, 2, 3, 4, 5, 6, 'mukund', 1, 3.14, True)\n"
     ]
    }
   ],
>>>>>>> bbc920374470259b5c719a7bb94c1b2985cde13d
   "source": [
    "#TUPLE OPERTAION\n",
    "#1. concatination\n",
    "conc_tuple= num + letter\n",
    "print(conc_tuple)"
   ]
  },
  {
   "cell_type": "code",
<<<<<<< HEAD
   "execution_count": null,
   "id": "e800928b",
   "metadata": {},
   "outputs": [],
=======
   "execution_count": 14,
   "id": "e800928b",
   "metadata": {},
   "outputs": [
    {
     "name": "stdout",
     "output_type": "stream",
     "text": [
      "(1, 3.14, 'mukund')\n",
      "1\n",
      "3.14\n",
      "mukund\n"
     ]
    }
   ],
>>>>>>> bbc920374470259b5c719a7bb94c1b2985cde13d
   "source": [
    "#packing and unpacking tuple \n",
    "#packing\n",
    "p_tuple=1,3.14,\"mukund\"\n",
    "print(p_tuple)\n",
    "#unpacking\n",
    "a,b,c=p_tuple\n",
    "print(a)\n",
    "print(b)\n",
    "print(c)"
   ]
  },
  {
   "cell_type": "code",
<<<<<<< HEAD
   "execution_count": null,
=======
   "execution_count": 1,
>>>>>>> bbc920374470259b5c719a7bb94c1b2985cde13d
   "id": "4a64be19",
   "metadata": {},
   "outputs": [],
   "source": [
    "#nested iterating\n",
    "nested_tpl=((1,2,3),(\"mukund\",\"patil\"),(3.14,4,))\n"
   ]
  },
  {
   "cell_type": "code",
<<<<<<< HEAD
   "execution_count": null,
   "id": "016ddd48",
   "metadata": {},
   "outputs": [],
=======
   "execution_count": 3,
   "id": "016ddd48",
   "metadata": {},
   "outputs": [
    {
     "name": "stdout",
     "output_type": "stream",
     "text": [
      "1 2 3 \n",
      "mukund patil \n",
      "3.14 4 \n"
     ]
    }
   ],
>>>>>>> bbc920374470259b5c719a7bb94c1b2985cde13d
   "source": [
    "for tpl in nested_tpl:\n",
    "    for vastu in tpl:\n",
    "        print(vastu,end=\" \")\n",
    "    print()"
   ]
  },
  {
   "cell_type": "markdown",
   "id": "c3ab7a5c",
   "metadata": {},
   "source": [
    "## SETS \n",
    "sets are collections which are unordered, unchangeable, and do not allow duplicate members.\n",
    "\n",
    "```python"
   ]
  },
  {
   "cell_type": "code",
<<<<<<< HEAD
   "execution_count": null,
   "id": "1242f8c0",
   "metadata": {},
   "outputs": [],
=======
   "execution_count": 4,
   "id": "1242f8c0",
   "metadata": {},
   "outputs": [
    {
     "name": "stdout",
     "output_type": "stream",
     "text": [
      "{1, 2, 3, 4, 5, 6}\n",
      "<class 'set'>\n"
     ]
    }
   ],
>>>>>>> bbc920374470259b5c719a7bb94c1b2985cde13d
   "source": [
    "# creating a sets \n",
    "my_set={1,2,3,4,5,6}\n",
    "print(my_set)\n",
    "print(type(my_set))"
   ]
  },
  {
   "cell_type": "code",
<<<<<<< HEAD
   "execution_count": null,
   "id": "9b7edf00",
   "metadata": {},
   "outputs": [],
=======
   "execution_count": 7,
   "id": "9b7edf00",
   "metadata": {},
   "outputs": [
    {
     "name": "stdout",
     "output_type": "stream",
     "text": [
      "{1, 2, 3, 4, 5, 6, 7}\n",
      "{1, 2, 3, 5, 6, 7}\n"
     ]
    }
   ],
>>>>>>> bbc920374470259b5c719a7bb94c1b2985cde13d
   "source": [
    "#add or remove elements\n",
    "my_set.add(7)\n",
    "print(my_set)\n",
    "my_set.remove(4)\n",
    "print(my_set)\n"
   ]
  },
  {
   "cell_type": "code",
<<<<<<< HEAD
   "execution_count": null,
   "id": "bb1b71cd",
   "metadata": {},
   "outputs": [],
=======
   "execution_count": 8,
   "id": "bb1b71cd",
   "metadata": {},
   "outputs": [
    {
     "name": "stdout",
     "output_type": "stream",
     "text": [
      "{2, 3, 5, 6, 7}\n"
     ]
    }
   ],
>>>>>>> bbc920374470259b5c719a7bb94c1b2985cde13d
   "source": [
    "#pop \n",
    "my_set.pop()\n",
    "print(my_set)"
   ]
  },
  {
   "cell_type": "code",
<<<<<<< HEAD
   "execution_count": null,
   "id": "99108797",
   "metadata": {},
   "outputs": [],
=======
   "execution_count": 13,
   "id": "99108797",
   "metadata": {},
   "outputs": [
    {
     "name": "stdout",
     "output_type": "stream",
     "text": [
      "{0, 1, 2, 3, 4, 5, 6, 7, 8, 9}\n"
     ]
    }
   ],
>>>>>>> bbc920374470259b5c719a7bb94c1b2985cde13d
   "source": [
    "#mathematical operation \n",
    "set1={1,2,3,4,5,6,7}\n",
    "set2={6,7,8,9,0}\n",
    "u_set=set1.union(set2)\n",
    "print(u_set)\n"
   ]
  },
  {
   "cell_type": "code",
<<<<<<< HEAD
   "execution_count": null,
   "id": "7f80d3d3",
   "metadata": {},
   "outputs": [],
=======
   "execution_count": 16,
   "id": "7f80d3d3",
   "metadata": {},
   "outputs": [
    {
     "name": "stdout",
     "output_type": "stream",
     "text": [
      "{6, 7}\n"
     ]
    }
   ],
>>>>>>> bbc920374470259b5c719a7bb94c1b2985cde13d
   "source": [
    "\n",
    "#intersection\n",
    "i_set=set1.intersection(set2)\n",
    "print(i_set)"
   ]
  },
  {
   "cell_type": "code",
<<<<<<< HEAD
   "execution_count": null,
   "id": "c8372ea7",
   "metadata": {},
   "outputs": [],
=======
   "execution_count": 17,
   "id": "c8372ea7",
   "metadata": {},
   "outputs": [
    {
     "name": "stdout",
     "output_type": "stream",
     "text": [
      "{6, 7}\n"
     ]
    }
   ],
>>>>>>> bbc920374470259b5c719a7bb94c1b2985cde13d
   "source": [
    "# intersection_update\n",
    "set1.intersection_update(set2)\n",
    "print(set1)"
   ]
  },
  {
   "cell_type": "code",
<<<<<<< HEAD
   "execution_count": 22,
=======
   "execution_count": null,
>>>>>>> bbc920374470259b5c719a7bb94c1b2985cde13d
   "id": "f85d2f26",
   "metadata": {},
   "outputs": [
    {
     "name": "stdout",
     "output_type": "stream",
     "text": [
      "{1, 2, 3, 4, 5, 6, 7}\n",
<<<<<<< HEAD
      "{0, 6, 7, 8, 9}\n",
      "mukund mahesh patil \n",
      " roll no 49 \n",
      " shelti shahada nandurbar\n"
=======
      "{0, 6, 7, 8, 9}\n"
>>>>>>> bbc920374470259b5c719a7bb94c1b2985cde13d
     ]
    }
   ],
   "source": [
    "set1={1,2,3,4,5,6,7}\n",
    "set2={6,7,8,9,0}\n",
    "print(set1)\n",
<<<<<<< HEAD
    "print(set2)\n",
    "print(\"mukund mahesh patil \\n roll no 49 \\n shelti shahada nandurbar\")\n"
   ]
  },
  {
   "cell_type": "code",
   "execution_count": 26,
   "id": "2d96bdaa",
   "metadata": {},
   "outputs": [
    {
     "data": {
      "text/plain": [
       "{0, 8, 9}"
      ]
     },
     "execution_count": 26,
     "metadata": {},
     "output_type": "execute_result"
    }
   ],
   "source": [
    "# diffrence\n",
    "set2.difference(set1)\n"
   ]
  },
  {
   "cell_type": "code",
   "execution_count": 27,
   "id": "b7d9eff1",
   "metadata": {},
   "outputs": [
    {
     "data": {
      "text/plain": [
       "{0, 1, 2, 3, 4, 5, 8, 9}"
      ]
     },
     "execution_count": 27,
     "metadata": {},
     "output_type": "execute_result"
    }
   ],
   "source": [
    "# symmentric difference\n",
    "set1.symmetric_difference(set2)"
   ]
  },
  {
   "cell_type": "code",
   "execution_count": 38,
   "id": "d6b97d2f",
   "metadata": {},
   "outputs": [
    {
     "name": "stdout",
     "output_type": "stream",
     "text": [
      "False\n",
      "False\n"
     ]
    }
   ],
   "source": [
    "# sets methods\n",
    "print(set1.issubset(set2))\n",
    "print(set1.issuperset(set2))"
   ]
  },
  {
   "cell_type": "code",
   "execution_count": 39,
   "id": "ff0f8ff5",
   "metadata": {},
   "outputs": [
    {
     "data": {
      "text/plain": [
       "{1, 2, 3, 4, 5, 6, 7}"
      ]
     },
     "execution_count": 39,
     "metadata": {},
     "output_type": "execute_result"
    }
   ],
   "source": [
    "lst=[1,2,3,3,4,5,6,7,7]\n",
    "set(lst)"
   ]
  },
  {
   "cell_type": "code",
   "execution_count": 41,
   "id": "fa958067",
   "metadata": {},
   "outputs": [
    {
     "name": "stdout",
     "output_type": "stream",
     "text": [
      "{'no', ',', 'mukund', 'rol', 'mahesh', '49', 'chinchwad', 'pimpri', 'university', 'patil'}\n",
      "10\n"
     ]
    }
   ],
   "source": [
    "# count the number of words in text \n",
    "text=\"mukund mahesh patil , rol no 49 pimpri chinchwad university\"\n",
    "word=text.split()\n",
    "\n",
    "# convert words into set\n",
    "un_set=set(word)\n",
    "print(set(word))\n",
    "print(len(un_set))"
   ]
  },
  {
   "cell_type": "markdown",
   "id": "68e6b989",
   "metadata": {},
   "source": [
    "## dictionaries\n",
    "A dictionary is a collection which is unordered, changeable and indexed. No duplicate members.\n",
    "\n",
    "```python"
   ]
  },
  {
   "cell_type": "code",
   "execution_count": 2,
   "id": "d7397a51",
   "metadata": {},
   "outputs": [
    {
     "name": "stdout",
     "output_type": "stream",
     "text": [
      "<class 'dict'>\n"
     ]
    }
   ],
   "source": [
    "# creating a dictionaries\n",
    "em_dic={}\n",
    "print(type(em_dic))"
   ]
  },
  {
   "cell_type": "code",
   "execution_count": 3,
   "id": "451aae67",
   "metadata": {},
   "outputs": [
    {
     "data": {
      "text/plain": [
       "{}"
      ]
     },
     "execution_count": 3,
     "metadata": {},
     "output_type": "execute_result"
    }
   ],
   "source": [
    "emp_dic=dict()\n",
    "emp_dic"
   ]
  },
  {
   "cell_type": "code",
   "execution_count": 5,
   "id": "b6118f45",
   "metadata": {},
   "outputs": [
    {
     "name": "stdout",
     "output_type": "stream",
     "text": [
      "{'name': 'mukund', 'age': 21}\n",
      "<class 'dict'>\n"
     ]
    }
   ],
   "source": [
    "student={\"name\":\"mukund\",\"age\":21}\n",
    "print(student)\n",
    "print(type(student))"
   ]
  },
  {
   "cell_type": "code",
   "execution_count": 10,
   "id": "b9166416",
   "metadata": {},
   "outputs": [
    {
     "name": "stdout",
     "output_type": "stream",
     "text": [
      "21\n"
     ]
    }
   ],
   "source": [
    "# accessing the dict elements\n",
    "print(student['age'])"
   ]
  },
  {
   "cell_type": "code",
   "execution_count": 11,
   "id": "d93b9ac6",
   "metadata": {},
   "outputs": [
    {
     "name": "stdout",
     "output_type": "stream",
     "text": [
      "{'name': 'mukund', 'age': 20, 'address': 'shelti'}\n"
     ]
    }
   ],
   "source": [
    "# modifying the element of dict\n",
    "student[\"age\"]=20\n",
    "student[\"address\"]=\"shelti\"\n",
    "print(student)"
   ]
  },
  {
   "cell_type": "code",
   "execution_count": 14,
   "id": "17017428",
   "metadata": {},
   "outputs": [
    {
     "name": "stdout",
     "output_type": "stream",
     "text": [
      "{'name': 'mukund', 'age': 20, 'address': 'shelti'}\n",
      "{'name': 'mukund', 'age': 20, 'address': 'shelti'}\n"
     ]
    }
   ],
   "source": [
    " # dict methods\n",
    "student.keys()\n",
    "student.values()\n",
    "student.items()\n",
    "std_copy=student # shallow copy\n",
    "print(std_copy)\n",
    "std_copy1=student.copy()\n",
    "print(std_copy)"
   ]
  },
  {
   "cell_type": "code",
   "execution_count": 16,
   "id": "e3f1f74c",
   "metadata": {},
   "outputs": [
    {
     "name": "stdout",
     "output_type": "stream",
     "text": [
      "{'name': 'mukund1', 'age': 20, 'address': 'shelti'}\n",
      "{'name': 'mukund', 'age': 20, 'address': 'shelti'}\n",
      "{'name': 'mukund1', 'age': 20, 'address': 'shelti'}\n"
     ]
    }
   ],
   "source": [
    "student['name']=\"mukund1\"\n",
    "print(student)\n",
    "print(std_copy1)\n",
    "print(std_copy)"
   ]
  },
  {
   "cell_type": "code",
   "execution_count": 17,
   "id": "c2becb64",
   "metadata": {},
   "outputs": [
    {
     "name": "stdout",
     "output_type": "stream",
     "text": [
      "name\n",
      "age\n",
      "address\n"
     ]
    }
   ],
   "source": [
    "# itesrting over the dict\n",
    "for keys in student.keys():\n",
    "    print(keys)\n"
   ]
  },
  {
   "cell_type": "code",
   "execution_count": 18,
   "id": "f8edd2b0",
   "metadata": {},
   "outputs": [
    {
     "name": "stdout",
     "output_type": "stream",
     "text": [
      "mukund1\n",
      "20\n",
      "shelti\n"
     ]
    }
   ],
   "source": [
    "for values in student.values():\n",
    "    print(values)"
   ]
  },
  {
   "cell_type": "code",
   "execution_count": 19,
   "id": "2a8bf21c",
   "metadata": {},
   "outputs": [
    {
     "name": "stdout",
     "output_type": "stream",
     "text": [
      "name:mukund1\n",
      "age:20\n",
      "address:shelti\n"
     ]
    }
   ],
   "source": [
    "for keys,values in student.items():\n",
    "    print(f\"{keys}:{values}\")"
   ]
  },
  {
   "cell_type": "code",
   "execution_count": 20,
   "id": "79dd462f",
   "metadata": {},
   "outputs": [
    {
     "name": "stdout",
     "output_type": "stream",
     "text": [
      "{'student1': {'name': 'mukund'}, 'student2': {'name': 'mayur'}, 'student3': {'name': 'rameshwar'}}\n"
     ]
    }
   ],
   "source": [
    "# nested dict \n",
    "students={\n",
    "    \"student1\":{\"name\":\"mukund\"},\n",
    "    \"student2\":{\"name\":\"mayur\"},\n",
    "    \"student3\":{\"name\":\"rameshwar\"}\n",
    "\n",
    "}\n",
    "print(students)"
   ]
  },
  {
   "cell_type": "code",
   "execution_count": 22,
   "id": "ce06d740",
   "metadata": {},
   "outputs": [
    {
     "name": "stdout",
     "output_type": "stream",
     "text": [
      "mayur\n",
      "mukund\n",
      "rameshwar\n"
     ]
    }
   ],
   "source": [
    "# access\n",
    "print(students[\"student2\"][\"name\"])\n",
    "print(students[\"student1\"][\"name\"])\n",
    "print(students[\"student3\"][\"name\"])"
   ]
  },
  {
   "cell_type": "code",
   "execution_count": 24,
   "id": "c5929e54",
   "metadata": {},
   "outputs": [
    {
     "name": "stdout",
     "output_type": "stream",
     "text": [
      "{0: 0, 1: 1, 2: 4, 3: 9, 4: 16, 5: 25, 6: 36, 7: 49, 8: 64, 9: 81, 10: 100}\n"
     ]
    }
   ],
   "source": [
    "# dict comprehension\n",
    "sqaure={x:x**2 for x in range(11)}\n",
    "print(sqaure)"
   ]
  },
  {
   "cell_type": "code",
   "execution_count": 25,
   "id": "7e297773",
   "metadata": {},
   "outputs": [
    {
     "name": "stdout",
     "output_type": "stream",
     "text": [
      "{0: 0, 2: 4, 4: 16, 6: 36, 8: 64, 10: 100, 12: 144, 14: 196, 16: 256, 18: 324, 20: 400}\n"
     ]
    }
   ],
   "source": [
    "# with condiotion \n",
    "evens={x:x**2 for x in range(21) if x%2==0}\n",
    "print(evens)"
   ]
  },
  {
   "cell_type": "code",
   "execution_count": 3,
   "id": "6828553d",
   "metadata": {},
   "outputs": [
    {
     "name": "stdout",
     "output_type": "stream",
     "text": [
      "{1: 1, 2: 2, 3: 3, 4: 3}\n"
     ]
    }
   ],
   "source": [
    "# count the frquancy \n",
    "numbers=[1,2,2,3,3,3,4,4,4]\n",
    "frq={}\n",
    "\n",
    "for number in numbers:\n",
    "    if number in frq:\n",
    "        frq[number]+=1\n",
    "    else:\n",
    "        frq[number]=1\n",
    "print(frq)            "
   ]
  },
  {
   "cell_type": "code",
   "execution_count": 4,
   "id": "89044a9a",
   "metadata": {},
   "outputs": [
    {
     "name": "stdout",
     "output_type": "stream",
     "text": [
      "{'a': 1, 'b': 2, 'c': 3, 'd': 4}\n"
     ]
    }
   ],
   "source": [
    "# merge two dict into one dict\n",
    "dict1={\"a\":1, \"b\":2}\n",
    "dict2={\"c\":3,\"d\":4}\n",
    "mdict={**dict1,**dict2}\n",
    "print(mdict)"
   ]
  },
  {
   "cell_type": "code",
   "execution_count": 6,
   "id": "c9878c98",
   "metadata": {},
   "outputs": [
    {
     "name": "stdout",
     "output_type": "stream",
     "text": [
      "write a letter\n",
      "you dont do this task today\n",
      "-write\n",
      "-read\n",
      "-cook\n"
     ]
    }
   ],
   "source": [
    "# to do list\n",
    "\n",
    "tdl=[\"learn\",\"write\",\"read\"]\n",
    "\n",
    "# adding task\\\n",
    "tdl.append(\"cook\")\n",
    "# remove\n",
    "tdl.remove(\"learn\")\n",
    "#check if task in remainig\n",
    "if \"write\" in tdl:\n",
    "    print(\"write a letter\")\n",
    "    \n",
    "#remaoning task\n",
    "print(\"you dont do this task today\")\n",
    "for task in tdl:\n",
    "    print(f\"-{task}\")\n",
    "    "
   ]
  },
  {
   "cell_type": "code",
   "execution_count": 21,
   "id": "eb7948cf",
   "metadata": {},
   "outputs": [
    {
     "name": "stdout",
     "output_type": "stream",
     "text": [
      "['could have been better', 'it really great experiance']\n",
      "positive feedback count: 4\n",
      "user feedbacks\n",
      "great\n",
      "exelent\n",
      "good service\n",
      "could have been better\n",
      "it really great experiance\n"
     ]
    }
   ],
   "source": [
    "# feed back \n",
    "feedback=[\"great\",\"exelent\",\"good service\"]\n",
    "feedback.append(\"could have been better\")\n",
    "feedback.append(\"it really great experiance\")\n",
    "\n",
    "\n",
    "print(feedback[3:])\n",
    "\n",
    "#positive feedback countr\n",
    "pfc=sum(1 for comment in feedback if \"great\" in comment.lower() or  \"exelent\" in comment.lower() or \"good\" in comment.lower())\n",
    "print(f\"positive feedback count: {pfc}\")\n",
    "\n",
    "print(\"user feedbacks\")\n",
    "for comment in feedback:\n",
    "    print(comment)"
=======
    "print(set2)\n"
>>>>>>> bbc920374470259b5c719a7bb94c1b2985cde13d
   ]
  }
 ],
 "metadata": {
  "kernelspec": {
   "display_name": "myenv",
   "language": "python",
   "name": "python3"
  },
  "language_info": {
   "codemirror_mode": {
    "name": "ipython",
    "version": 3
   },
   "file_extension": ".py",
   "mimetype": "text/x-python",
   "name": "python",
   "nbconvert_exporter": "python",
   "pygments_lexer": "ipython3",
   "version": "3.13.5"
  }
 },
 "nbformat": 4,
 "nbformat_minor": 5
}
