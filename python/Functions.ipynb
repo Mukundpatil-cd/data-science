{
 "cells": [
  {
   "cell_type": "markdown",
   "id": "13e5215a",
   "metadata": {},
   "source": [
    "# Functions\n"
   ]
  },
  {
   "cell_type": "markdown",
   "id": "cc7d7a45",
   "metadata": {},
   "source": [
    "Functions are reusable pieces of code that perform a specific task. They help in organizing code, making it more readable, and avoiding repetition.\n"
   ]
  },
  {
   "cell_type": "code",
   "execution_count": 1,
   "id": "b4a4a121",
   "metadata": {},
   "outputs": [],
   "source": [
    "# creating a function\n",
    "def even_or_odd(num):\n",
    "    if num%2==0:\n",
    "        print(\"even\")\n",
    "    else :\n",
    "        print(\"odd\")\n",
    "            "
   ]
  },
  {
   "cell_type": "code",
   "execution_count": 3,
   "id": "f0bbaaca",
   "metadata": {},
   "outputs": [
    {
     "name": "stdout",
     "output_type": "stream",
     "text": [
      "odd\n"
     ]
    }
   ],
   "source": [
    "# calling a funtion\n",
    "even_or_odd(37)"
   ]
  },
  {
   "cell_type": "code",
   "execution_count": 4,
   "id": "3a113848",
   "metadata": {},
   "outputs": [
    {
     "name": "stdout",
     "output_type": "stream",
     "text": [
      "1\n",
      "2\n",
      "3\n",
      "4\n",
      "5\n",
      "6\n",
      "mukund\n",
      "patil\n"
     ]
    }
   ],
   "source": [
    "# positinal and keywords arguments\n",
    "def print_number(*args):\n",
    "    for number in args:\n",
    "        print(number)\n",
    "        \n",
    "print_number(1,2,3,4,5,6,\"mukund\",\"patil\")        "
   ]
  },
  {
   "cell_type": "code",
   "execution_count": 5,
   "id": "adc86202",
   "metadata": {},
   "outputs": [
    {
     "name": "stdout",
     "output_type": "stream",
     "text": [
      "name:mukund\n",
      "age:21\n",
      "country:india\n"
     ]
    }
   ],
   "source": [
    "# keywords arguments\n",
    "def print_details(**kwargs):\n",
    "    for key,values in kwargs.items():\n",
    "        print(f\"{key}:{values}\")\n",
    "        \n",
    "print_details(name=\"mukund\",age=21,country=\"india\")        \n",
    "    \n"
   ]
  },
  {
   "cell_type": "code",
   "execution_count": 6,
   "id": "3df742b5",
   "metadata": {},
   "outputs": [],
   "source": [
    "def print_details(*args,**kwargs):\n",
    "    for val in args:\n",
    "        print(val)\n",
    "    for key,values in kwargs.items():\n",
    "        print(f\"{key}:{values}\")"
   ]
  },
  {
   "cell_type": "code",
   "execution_count": 7,
   "id": "83421643",
   "metadata": {},
   "outputs": [
    {
     "name": "stdout",
     "output_type": "stream",
     "text": [
      "1\n",
      "2\n",
      "3\n",
      "4\n",
      "5\n",
      "name:mukund\n",
      "age:21\n"
     ]
    }
   ],
   "source": [
    "print_details(1,2,3,4,5,name=\"mukund\",age=21)"
   ]
  },
  {
   "cell_type": "code",
   "execution_count": 12,
   "id": "1bb2d70c",
   "metadata": {},
   "outputs": [
    {
     "name": "stdout",
     "output_type": "stream",
     "text": [
      "False\n"
     ]
    }
   ],
   "source": [
    "# pasword strong checker\n",
    "def is_strong(passw):\n",
    "    if len(passw)>8:\n",
    "        return False\n",
    "    if not any(char.isdigit() for char in passw):\n",
    "        return False\n",
    "    \n",
    "print(is_strong(\"mukundpatil\"))    "
   ]
  },
  {
   "cell_type": "markdown",
   "id": "6c00f614",
   "metadata": {},
   "source": [
    "## lambda Functions\n",
    "Lambda functions are small anonymous functions defined using the `lambda` keyword. They can take any number of arguments but can only have one expression."
   ]
  },
  {
   "cell_type": "code",
   "execution_count": 16,
   "id": "82f11c17",
   "metadata": {},
   "outputs": [
    {
     "data": {
      "text/plain": [
       "6"
      ]
     },
     "execution_count": 16,
     "metadata": {},
     "output_type": "execute_result"
    }
   ],
   "source": [
    "add=lambda a,d:a+d\n",
    "add(2,4)\n",
    "\n",
    "    "
   ]
  },
  {
   "cell_type": "code",
   "execution_count": 17,
   "id": "39590015",
   "metadata": {},
   "outputs": [
    {
     "data": {
      "text/plain": [
       "[1, 4, 9, 16, 25]"
      ]
     },
     "execution_count": 17,
     "metadata": {},
     "output_type": "execute_result"
    }
   ],
   "source": [
    "# map()\n",
    "numbers=[1,2,3,4,5]\n",
    "list(map(lambda x:x**2,numbers))"
   ]
  },
  {
   "cell_type": "markdown",
   "id": "cab0c8c3",
   "metadata": {},
   "source": [
    "## map()\n",
    "The `map()` function applies a given function to all items in an iterable (like a list) and returns a map object (which is an iterator). You can convert it to a list or another iterable type.\n",
    "\n",
    "```python"
   ]
  },
  {
   "cell_type": "code",
   "execution_count": 18,
   "id": "1858e714",
   "metadata": {},
   "outputs": [
    {
     "data": {
      "text/plain": [
       "[1, 4, 9, 16, 25]"
      ]
     },
     "execution_count": 18,
     "metadata": {},
     "output_type": "execute_result"
    }
   ],
   "source": [
    "# map()\n",
    "numbers=[1,2,3,4,5]\n",
    "list(map(lambda x:x**2,numbers))"
   ]
  },
  {
   "cell_type": "code",
   "execution_count": 19,
   "id": "91a87b27",
   "metadata": {},
   "outputs": [
    {
     "data": {
      "text/plain": [
       "400"
      ]
     },
     "execution_count": 19,
     "metadata": {},
     "output_type": "execute_result"
    }
   ],
   "source": [
    "def square(X):\n",
    "    return X*X\n",
    "square(20)"
   ]
  },
  {
   "cell_type": "code",
   "execution_count": 20,
   "id": "dd921f28",
   "metadata": {},
   "outputs": [
    {
     "data": {
      "text/plain": [
       "[1, 4, 9, 16, 25, 36, 49, 64, 81]"
      ]
     },
     "execution_count": 20,
     "metadata": {},
     "output_type": "execute_result"
    }
   ],
   "source": [
    "#  now in map()\n",
    "numbers=[1,2,3,4,5,6,7,8,9]\n",
    "list(map(square,numbers))"
   ]
  },
  {
   "cell_type": "code",
   "execution_count": 23,
   "id": "17f3ad4d",
   "metadata": {},
   "outputs": [
    {
     "name": "stdout",
     "output_type": "stream",
     "text": [
      "[5, 7, 9]\n"
     ]
    }
   ],
   "source": [
    "#multiple iterable\n",
    "n1=[1,2,3]\n",
    "n2=[4,5,6]\n",
    "n3=list(map(lambda x,y:x+y,n1,n2))\n",
    "print(n3)"
   ]
  },
  {
   "cell_type": "code",
   "execution_count": 24,
   "id": "b3ec0a73",
   "metadata": {},
   "outputs": [
    {
     "name": "stdout",
     "output_type": "stream",
     "text": [
      "[1, 2, 3]\n"
     ]
    }
   ],
   "source": [
    "# convert str to int\n",
    "str_n=[\"1\",\"2\",\"3\"]\n",
    "int_n=list(map(int , str_n))\n",
    "print(int_n)"
   ]
  },
  {
   "cell_type": "markdown",
   "id": "73051817",
   "metadata": {},
   "source": [
    "## filter()\n",
    "The `filter()` function constructs an iterator from elements of an iterable for which a function returns true.\n",
    "```python"
   ]
  },
  {
   "cell_type": "code",
   "execution_count": null,
   "id": "cea15740",
   "metadata": {},
   "outputs": [
    {
     "data": {
      "text/plain": [
       "[1, 2, 3, 4, 6, 8, 10, 12, 14, 18]"
      ]
     },
     "execution_count": 26,
     "metadata": {},
     "output_type": "execute_result"
    }
   ],
   "source": [
    "lst=[1,2,3,4,5,6,7,8,9,10,11,12,14,15,17,18]\n",
    "def even(num):\n",
    "    if num%2==0:\n",
    "        return True\n",
    "    if num<5:\n",
    "        return True\n",
    "list(filter(even , lst))"
   ]
  }
 ],
 "metadata": {
  "kernelspec": {
   "display_name": "myenv",
   "language": "python",
   "name": "python3"
  },
  "language_info": {
   "codemirror_mode": {
    "name": "ipython",
    "version": 3
   },
   "file_extension": ".py",
   "mimetype": "text/x-python",
   "name": "python",
   "nbconvert_exporter": "python",
   "pygments_lexer": "ipython3",
   "version": "3.13.5"
  }
 },
 "nbformat": 4,
 "nbformat_minor": 5
}
