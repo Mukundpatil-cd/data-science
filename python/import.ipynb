{
 "cells": [
  {
   "cell_type": "markdown",
   "id": "3f8b7618",
   "metadata": {},
   "source": [
    "## importing module\n",
    "\n",
    "\n",
    "```python"
   ]
  },
  {
   "cell_type": "code",
   "execution_count": 2,
   "id": "fe517c0a",
   "metadata": {},
   "outputs": [
    {
     "data": {
      "text/plain": [
       "4.0"
      ]
     },
     "execution_count": 2,
     "metadata": {},
     "output_type": "execute_result"
    }
   ],
   "source": [
    "# importing a package\n",
    "import math \n",
    "math.sqrt(16)"
   ]
  },
  {
   "cell_type": "code",
   "execution_count": 4,
   "id": "a6d00641",
   "metadata": {},
   "outputs": [
    {
     "name": "stdout",
     "output_type": "stream",
     "text": [
      "4.242640687119285\n",
      "5.830951894845301\n",
      "3.141592653589793\n"
     ]
    }
   ],
   "source": [
    "from math import sqrt,pi\n",
    "print(sqrt(18))\n",
    "print(sqrt(34))\n",
    "print(pi)"
   ]
  },
  {
   "cell_type": "code",
   "execution_count": 10,
   "id": "cf018a79",
   "metadata": {},
   "outputs": [
    {
     "data": {
      "text/plain": [
       "array([1, 2, 3, 4])"
      ]
     },
     "execution_count": 10,
     "metadata": {},
     "output_type": "execute_result"
    }
   ],
   "source": [
    "import numpy as np\n",
    "np.array([1,2,3,4])"
   ]
  },
  {
   "cell_type": "code",
   "execution_count": 2,
   "id": "d68204c8",
   "metadata": {},
   "outputs": [
    {
     "data": {
      "text/plain": [
       "90109"
      ]
     },
     "execution_count": 2,
     "metadata": {},
     "output_type": "execute_result"
    }
   ],
   "source": [
    "from package.maths import addition\n",
    "addition(12,34)\n",
    "addition(54566,35543)"
   ]
  },
  {
   "cell_type": "code",
   "execution_count": 2,
   "id": "2b27493b",
   "metadata": {},
   "outputs": [
    {
     "name": "stdout",
     "output_type": "stream",
     "text": [
      "array('i', [1, 2, 3, 4, 5])\n"
     ]
    }
   ],
   "source": [
    "import array\n",
    "arr=array.array('i',[1,2,3,4,5])\n",
    "print(arr)"
   ]
  },
  {
   "cell_type": "code",
   "execution_count": 28,
   "id": "10a4c138",
   "metadata": {},
   "outputs": [
    {
     "name": "stdout",
     "output_type": "stream",
     "text": [
      "17\n",
      "apk\n"
     ]
    }
   ],
   "source": [
    "import random\n",
    "print(random.randint(1,100))\n",
    "print(random.choice(['app','apk','evantr']\n",
    "                    \n",
    "                    \n",
    "                    \n",
    "                    \n",
    "                    \n",
    "                    ))"
   ]
  },
  {
   "cell_type": "code",
   "execution_count": null,
   "id": "abd260f7",
   "metadata": {},
   "outputs": [
    {
     "name": "stdout",
     "output_type": "stream",
     "text": [
      "d:\\data science\\python\n"
     ]
    }
   ],
   "source": [
    "import os\n",
    "print(os.getcwd())\n"
   ]
  },
  {
   "cell_type": "code",
   "execution_count": 32,
   "id": "8252be25",
   "metadata": {},
   "outputs": [
    {
     "name": "stdout",
     "output_type": "stream",
     "text": [
      "{\"name\": \"mukund\", \"age\": 21}\n",
      "<class 'str'>\n",
      "{'name': 'mukund', 'age': 21}\n",
      "<class 'dict'>\n"
     ]
    }
   ],
   "source": [
    "# data serialization\n",
    "import json \n",
    "m={'name':'mukund','age':21}\n",
    "\n",
    "jj=json.dumps(m)\n",
    "print(jj)\n",
    "print(type(jj))\n",
    "\n",
    "pjj=json.loads(jj)\n",
    "print(pjj)\n",
    "print(type(pjj))"
   ]
  },
  {
   "cell_type": "code",
   "execution_count": 33,
   "id": "66183c46",
   "metadata": {},
   "outputs": [
    {
     "name": "stdout",
     "output_type": "stream",
     "text": [
      "['name', 'age']\n",
      "['mukund', '21']\n"
     ]
    }
   ],
   "source": [
    "import csv\n",
    "with open('mukund.csv',mode='w',newline=\"\")as file:\n",
    "    write=csv.writer(file)\n",
    "    write.writerow(['name','age']) \n",
    "    write.writerow(['mukund',21])\n",
    "    \n",
    "with open('mukund.csv',mode='r') as file:\n",
    "    read=csv.reader(file)\n",
    "    for row in read:\n",
    "        print(row)       \n"
   ]
  },
  {
   "cell_type": "code",
   "execution_count": null,
   "id": "0789f668",
   "metadata": {},
   "outputs": [
    {
     "name": "stdout",
     "output_type": "stream",
     "text": [
      "2025-08-05 20:38:22.040240\n",
      "2005-05-15 20:38:22.040240\n"
     ]
    }
   ],
   "source": [
    "from datetime import datetime , timedelta\n",
    "day=datetime.now()\n",
    "print(day)\n",
    "\n",
    "yesterday=day-timedelta(days=7387)\n",
    "print(yesterday)"
   ]
  }
 ],
 "metadata": {
  "kernelspec": {
   "display_name": "myenv",
   "language": "python",
   "name": "python3"
  },
  "language_info": {
   "codemirror_mode": {
    "name": "ipython",
    "version": 3
   },
   "file_extension": ".py",
   "mimetype": "text/x-python",
   "name": "python",
   "nbconvert_exporter": "python",
   "pygments_lexer": "ipython3",
   "version": "3.13.5"
  }
 },
 "nbformat": 4,
 "nbformat_minor": 5
}
