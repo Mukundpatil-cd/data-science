{
 "cells": [
  {
   "cell_type": "markdown",
   "id": "670e54c5",
   "metadata": {},
   "source": [
    "## loops : -\n"
   ]
  },
  {
   "cell_type": "markdown",
   "id": "5be1e1c4",
   "metadata": {},
   "source": [
    "# for loop : -\n",
    " A for loop is used to iterate over a sequence (like a list, tuple, or"
   ]
  },
  {
   "cell_type": "code",
   "execution_count": 16,
   "id": "ee6f784f",
   "metadata": {},
   "outputs": [
    {
     "name": "stdout",
     "output_type": "stream",
     "text": [
      "1\n",
      "6\n"
     ]
    }
   ],
   "source": [
    "# range(1,10,2)\n",
    "i = 10\n",
    "for i in range(1,10,5):\n",
    "     print(i)"
   ]
  },
  {
   "cell_type": "code",
   "execution_count": 17,
   "id": "fde7f1fc",
   "metadata": {},
   "outputs": [
    {
     "name": "stdout",
     "output_type": "stream",
     "text": [
      "m\n",
      "u\n",
      "k\n",
      "u\n",
      "n\n",
      "d\n",
      " \n",
      "p\n",
      "a\n",
      "t\n",
      "i\n",
      "l\n"
     ]
    }
   ],
   "source": [
    "# strings\n",
    "\n",
    "str = \"mukund patil\"\n",
    "for i in str:\n",
    "    print(i)"
   ]
  },
  {
   "cell_type": "markdown",
   "id": "70a7d65f",
   "metadata": {},
   "source": [
    "# while loop : -\n",
    " A while loop is used to repeatedly execute a block of code as long as a specified condition is true."
   ]
  },
  {
   "cell_type": "code",
   "execution_count": 23,
   "id": "7916864a",
   "metadata": {},
   "outputs": [
    {
     "name": "stdout",
     "output_type": "stream",
     "text": [
      "0\n",
      "1\n",
      "2\n",
      "3\n",
      "4\n",
      "5\n",
      "6\n",
      "7\n",
      "8\n",
      "9\n",
      "10\n",
      "11\n",
      "12\n",
      "13\n",
      "14\n",
      "15\n",
      "16\n",
      "17\n",
      "18\n",
      "19\n",
      "20\n",
      "21\n",
      "22\n",
      "23\n",
      "24\n",
      "25\n",
      "26\n",
      "27\n",
      "28\n",
      "29\n",
      "30\n",
      "31\n",
      "32\n",
      "33\n",
      "34\n"
     ]
    }
   ],
   "source": [
    "a = 0\n",
    "while a<35:\n",
    "    print(a)\n",
    "    a=a+1"
   ]
  },
  {
   "cell_type": "markdown",
   "id": "257a36fe",
   "metadata": {},
   "source": [
    "# loops control statements : -\n"
   ]
  },
  {
   "cell_type": "code",
   "execution_count": null,
   "id": "b251026e",
   "metadata": {},
   "outputs": [],
   "source": [
    "#break statment\n",
    " "
   ]
  }
 ],
 "metadata": {
  "kernelspec": {
   "display_name": "myenv",
   "language": "python",
   "name": "python3"
  },
  "language_info": {
   "codemirror_mode": {
    "name": "ipython",
    "version": 3
   },
   "file_extension": ".py",
   "mimetype": "text/x-python",
   "name": "python",
   "nbconvert_exporter": "python",
   "pygments_lexer": "ipython3",
   "version": "3.13.5"
  }
 },
 "nbformat": 4,
 "nbformat_minor": 5
}
