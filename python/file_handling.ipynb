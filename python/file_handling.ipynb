{
 "cells": [
  {
   "cell_type": "markdown",
   "id": "cc16a728",
   "metadata": {},
   "source": [
    "## File handling in Python\n",
    "File handling in Python allows you to create, read, update, and delete files on your system. Python provides built-in functions and methods to work with files easily.\n"
   ]
  },
  {
   "cell_type": "code",
   "execution_count": 2,
   "id": "4b05d355",
   "metadata": {},
   "outputs": [
    {
     "name": "stdout",
     "output_type": "stream",
     "text": [
      "hello guys \n",
      "my name is mukund mahesh patil\n",
      "i am curruntly studyng at pimpri chinchwad university\n",
      "and i am learning python right now\n",
      "and i want to be a machine lerning engg\n",
      "but first i have to become data analystics first\n"
     ]
    }
   ],
   "source": [
    "# creating a file \n",
    "with open('test.txt','r') as file:\n",
    "    cont=file.read()\n",
    "    print(cont)    \n",
    "    \n",
    "    "
   ]
  },
  {
   "cell_type": "code",
   "execution_count": 13,
   "id": "4c2322d5",
   "metadata": {},
   "outputs": [
    {
     "name": "stdout",
     "output_type": "stream",
     "text": [
      "hello worldmayur patel\n"
     ]
    }
   ],
   "source": [
    "# read file line by line\n",
    "with open('test.txt','r') as file:\n",
    "    for ln in file:\n",
    "        print(ln.strip())"
   ]
  },
  {
   "cell_type": "code",
   "execution_count": 9,
   "id": "b2685b76",
   "metadata": {},
   "outputs": [],
   "source": [
    "# writing a file\n",
    "with open('test.txt','w') as file:\n",
    "    file.write('hello world')\n",
    "    file.write('mayur patel')"
   ]
  },
  {
   "cell_type": "code",
   "execution_count": 14,
   "id": "52215b07",
   "metadata": {},
   "outputs": [],
   "source": [
    "# writing without overridding\n",
    "with open('test.txt','a') as file:\n",
    "    file.write(\"appending the file without overriding\\n\")"
   ]
  },
  {
   "cell_type": "code",
   "execution_count": 16,
   "id": "bc085d5b",
   "metadata": {},
   "outputs": [],
   "source": [
    "## adding the list of lines in afile \n",
    "lines=['first mukund\\n','second rameshwar\\n','third mayur\\n']\n",
    "with open('test.txt','a')as file:\n",
    "    file.writelines(lines)"
   ]
  },
  {
   "cell_type": "code",
   "execution_count": 18,
   "id": "3c3b5e8b",
   "metadata": {},
   "outputs": [],
   "source": [
    "# read fro a file and copy it to another\n",
    "\n",
    "with open('test.txt','r') as s_file:\n",
    "    cont=s_file.read()\n",
    "    \n",
    "with open('d_file.txt','w') as d_file:  \n",
    "    d_file.write(cont)  "
   ]
  },
  {
   "cell_type": "code",
   "execution_count": null,
   "id": "0b1b355a",
   "metadata": {},
   "outputs": [],
   "source": []
  }
 ],
 "metadata": {
  "kernelspec": {
   "display_name": "myenv",
   "language": "python",
   "name": "python3"
  },
  "language_info": {
   "codemirror_mode": {
    "name": "ipython",
    "version": 3
   },
   "file_extension": ".py",
   "mimetype": "text/x-python",
   "name": "python",
   "nbconvert_exporter": "python",
   "pygments_lexer": "ipython3",
   "version": "3.13.5"
  }
 },
 "nbformat": 4,
 "nbformat_minor": 5
}
