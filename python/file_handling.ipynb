{
 "cells": [
  {
   "cell_type": "markdown",
   "id": "cc16a728",
   "metadata": {},
   "source": [
    "## File handling in Python\n",
    "File handling in Python allows you to create, read, update, and delete files on your system. Python provides built-in functions and methods to work with files easily.\n"
   ]
  },
  {
   "cell_type": "code",
   "execution_count": 2,
   "id": "4b05d355",
   "metadata": {},
   "outputs": [
    {
     "name": "stdout",
     "output_type": "stream",
     "text": [
      "hello guys \n",
      "my name is mukund mahesh patil\n",
      "i am curruntly studyng at pimpri chinchwad university\n",
      "and i am learning python right now\n",
      "and i want to be a machine lerning engg\n",
      "but first i have to become data analystics first\n"
     ]
    }
   ],
   "source": [
    "# creating a file \n",
    "with open('test.txt','r') as file:\n",
    "    cont=file.read()\n",
    "    print(cont)    \n",
    "    \n",
    "    "
   ]
  },
  {
   "cell_type": "code",
   "execution_count": 13,
   "id": "4c2322d5",
   "metadata": {},
   "outputs": [
    {
     "name": "stdout",
     "output_type": "stream",
     "text": [
      "hello worldmayur patel\n"
     ]
    }
   ],
   "source": [
    "# read file line by line\n",
    "with open('test.txt','r') as file:\n",
    "    for ln in file:\n",
    "        print(ln.strip())"
   ]
  },
  {
   "cell_type": "code",
   "execution_count": 9,
   "id": "b2685b76",
   "metadata": {},
   "outputs": [],
   "source": [
    "# writing a file\n",
    "with open('test.txt','w') as file:\n",
    "    file.write('hello world')\n",
    "    file.write('mayur patel')"
   ]
  },
  {
   "cell_type": "code",
   "execution_count": 14,
   "id": "52215b07",
   "metadata": {},
   "outputs": [],
   "source": [
    "# writing without overridding\n",
    "with open('test.txt','a') as file:\n",
    "    file.write(\"appending the file without overriding\\n\")"
   ]
  },
  {
   "cell_type": "code",
   "execution_count": 16,
   "id": "bc085d5b",
   "metadata": {},
   "outputs": [],
   "source": [
    "## adding the list of lines in afile \n",
    "lines=['first mukund\\n','second rameshwar\\n','third mayur\\n']\n",
    "with open('test.txt','a')as file:\n",
    "    file.writelines(lines)"
   ]
  },
  {
   "cell_type": "code",
   "execution_count": 18,
   "id": "3c3b5e8b",
   "metadata": {},
   "outputs": [],
   "source": [
    "# read fro a file and copy it to another\n",
    "\n",
    "with open('test.txt','r') as s_file:\n",
    "    cont=s_file.read()\n",
    "    \n",
    "with open('d_file.txt','w') as d_file:  \n",
    "    d_file.write(cont)  "
   ]
  },
  {
   "cell_type": "code",
   "execution_count": 1,
   "id": "0b1b355a",
   "metadata": {},
   "outputs": [],
   "source": [
    "with open(\"myfile.txt\",\"w\") as file:\n",
    "    file.write(\"my name is mukund mahesh patil\")"
   ]
  },
  {
   "cell_type": "code",
   "execution_count": 3,
   "id": "0641f1e9",
   "metadata": {},
   "outputs": [
    {
     "name": "stdout",
     "output_type": "stream",
     "text": [
      "my name is mukund mahesh patil\n",
      "this is seccond line \n",
      "this is third line\n"
     ]
    }
   ],
   "source": [
    "with open(\"myfile.txt\",\"r\") as file:\n",
    "    print(file.read())"
   ]
  },
  {
   "cell_type": "code",
   "execution_count": 4,
   "id": "f193a89f",
   "metadata": {},
   "outputs": [
    {
     "name": "stdout",
     "output_type": "stream",
     "text": [
      "my name is mukund mahesh patil\n",
      "\n",
      "this is seccond line \n",
      "\n"
     ]
    }
   ],
   "source": [
    "with open(\"myfile.txt\",\"r\") as file:\n",
    "    print(file.readline())\n",
    "    print(file.readline())"
   ]
  },
  {
   "cell_type": "code",
   "execution_count": 7,
   "id": "7322e6c0",
   "metadata": {},
   "outputs": [
    {
     "name": "stdout",
     "output_type": "stream",
     "text": [
      "['my name is mukund mahesh patil\\n', 'this is seccond line \\n', 'this is third line']"
     ]
    }
   ],
   "source": [
    "with open(\"myfile.txt\",\"r\") as file:\n",
    "    print(file.readlines() , end='')"
   ]
  },
  {
   "cell_type": "code",
   "execution_count": 14,
   "id": "977cfe71",
   "metadata": {},
   "outputs": [
    {
     "name": "stdout",
     "output_type": "stream",
     "text": [
      "0\n",
      "my na\n",
      "5\n",
      "0\n"
     ]
    }
   ],
   "source": [
    "with open(\"myfile.txt\",\"r\") as file:\n",
    "    print(file.tell())\n",
    "    print(file.read(5))\n",
    "    print(file.tell())\n",
    "    file.seek(0) \n",
    "    print(file.tell())   \n",
    "    "
   ]
  },
  {
   "cell_type": "code",
   "execution_count": 17,
   "id": "ba10927c",
   "metadata": {},
   "outputs": [
    {
     "name": "stdout",
     "output_type": "stream",
     "text": [
      "{'name': 'Mukund', 'age': 20, 'skills': ['Python', 'Machine Learning', 'Data Analysis']}\n"
     ]
    }
   ],
   "source": [
    "import json\n",
    "\n",
    "data = {\n",
    "    \"name\": \"Mukund\",\n",
    "    \"age\": 20,\n",
    "    \"skills\": [\"Python\", \"Machine Learning\", \"Data Analysis\"]\n",
    "}\n",
    "\n",
    "with open(\"my.json\",\"w\") as f:\n",
    "    json.dump(data,f,indent=4)\n",
    "    \n",
    "with open(\"my.json\",\"r\")as f:\n",
    "    l_data=json.load(f)\n",
    "    \n",
    "print(l_data)\n",
    "    "
   ]
  }
 ],
 "metadata": {
  "kernelspec": {
   "display_name": "myenv",
   "language": "python",
   "name": "python3"
  },
  "language_info": {
   "codemirror_mode": {
    "name": "ipython",
    "version": 3
   },
   "file_extension": ".py",
   "mimetype": "text/x-python",
   "name": "python",
   "nbconvert_exporter": "python",
   "pygments_lexer": "ipython3",
   "version": "3.13.5"
  }
 },
 "nbformat": 4,
 "nbformat_minor": 5
}
