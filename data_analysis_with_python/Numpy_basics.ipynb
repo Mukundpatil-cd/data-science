{
 "cells": [
  {
   "cell_type": "markdown",
   "id": "8db59184",
   "metadata": {},
   "source": [
    "# Numpy \n",
    "NumPy (Numerical Python) is a Python library used for fast numerical computations.\n",
    "It provides:\n",
    "\n",
    "Multi-dimensional array object (ndarray) for storing and manipulating large datasets.\n",
    "\n",
    "Mathematical functions for operations like linear algebra, statistics, and Fourier transforms.\n",
    "\n",
    "Broadcasting for efficient element-wise operations without writing loops.\n",
    "\n",
    "Integration with other libraries like Pandas, SciPy, and scikit-learn.\n",
    "\n",
    "In short — NumPy makes Python super fast for working with numbers and arrays, especially in data science, machine learning, and scientific computing."
   ]
  },
  {
   "cell_type": "code",
   "execution_count": null,
   "id": "1db055c4",
   "metadata": {},
   "outputs": [],
   "source": [
    "# importing numpy\n",
    "import numpy as np"
   ]
  },
  {
   "cell_type": "code",
   "execution_count": null,
   "id": "6b086fb5",
   "metadata": {},
   "outputs": [],
   "source": [
    "### 1D array\n",
    "arr1=np.array([1,2,3,4,5])\n",
    "print(arr1)\n",
    "print(type(arr1))\n"
   ]
  },
  {
   "cell_type": "code",
   "execution_count": null,
   "id": "b1c00a49",
   "metadata": {},
   "outputs": [],
   "source": [
    "arr1.reshape((5,1))"
   ]
  },
  {
   "cell_type": "code",
   "execution_count": null,
   "id": "37c2cb97",
   "metadata": {},
   "outputs": [],
   "source": [
    "### 2d array\n",
    "\n",
    "arr2=np.array([[1,2,3,4,5],[6,7,8,9,0]])\n",
    "print(arr2)\n",
    "print(arr2.shape)"
   ]
  },
  {
   "cell_type": "code",
   "execution_count": null,
   "id": "29876b77",
   "metadata": {},
   "outputs": [],
   "source": [
    "### creating array with built in methods\n",
    "\n",
    "np.arange(1,10,1).reshape(9,1)\n"
   ]
  },
  {
   "cell_type": "code",
   "execution_count": null,
   "id": "06ffd54d",
   "metadata": {},
   "outputs": [],
   "source": [
    "# ones\n",
    "np.ones((3,5))"
   ]
  },
  {
   "cell_type": "code",
   "execution_count": null,
   "id": "107e750e",
   "metadata": {},
   "outputs": [],
   "source": [
    "np.zeros((3,5))"
   ]
  },
  {
   "cell_type": "code",
   "execution_count": null,
   "id": "eaa93777",
   "metadata": {},
   "outputs": [],
   "source": [
    "## identity matrix\n",
    "np.eye(3)"
   ]
  },
  {
   "cell_type": "code",
   "execution_count": null,
   "id": "88f02bcb",
   "metadata": {},
   "outputs": [],
   "source": [
    "time = 0.4\n",
    "tempreature = 34\n",
    "time-tempreature\n",
    "\n"
   ]
  },
  {
   "cell_type": "code",
   "execution_count": null,
   "id": "ede19f74",
   "metadata": {},
   "outputs": [],
   "source": [
    "### numpy vectarized operation \n",
    "arr1 = np.array([1,2,3,4,5])\n",
    "arr2 = np.array([6,7,8,9,10])\n",
    "\n",
    "print(\"addition\" , arr1 + arr2 )\n",
    "print(\"sub :\" , arr1 - arr2)\n",
    "print(\"div\" , arr1/arr2)\n",
    "print(\"mul\" , arr1 * arr2 )"
   ]
  },
  {
   "cell_type": "code",
   "execution_count": null,
   "id": "33a02a89",
   "metadata": {},
   "outputs": [],
   "source": [
    "arr=np.array([1,2,3,4])\n",
    "print(np.sqrt(arr))\n",
    "print(np.exp(arr))\n",
    "print(np.sin(arr))\n",
    "print(np.log(arr))"
   ]
  },
  {
   "cell_type": "code",
   "execution_count": 46,
   "id": "5e12a12a",
   "metadata": {},
   "outputs": [
    {
     "data": {
      "text/plain": [
       "np.int64(4)"
      ]
     },
     "execution_count": 46,
     "metadata": {},
     "output_type": "execute_result"
    }
   ],
   "source": [
    "arr=np.array([[1,2,3,4,5],[10,20,30,40,50],[11,22,33,44,55]])\n",
    "arr[0][3]"
   ]
  },
  {
   "cell_type": "code",
   "execution_count": null,
   "id": "fb4c88ba",
   "metadata": {},
   "outputs": [],
   "source": [
    "print(np.mean(arr2))\n",
    "print(np.median(arr2))\n",
    "print(np.matrix_transpose(arr))\n",
    "print(arr)\n",
    "print(np.angle(arr))\n",
    "print(np.argmax(arr))"
   ]
  },
  {
   "cell_type": "markdown",
   "id": "3b3fcdba",
   "metadata": {},
   "source": [
    "#### numpy creating arrays with methods \n"
   ]
  },
  {
   "cell_type": "code",
   "execution_count": 43,
   "id": "b71dc232",
   "metadata": {},
   "outputs": [
    {
     "name": "stdout",
     "output_type": "stream",
     "text": [
      "[[1.86356597e-08 1.93351530e-07 1.51269593e-03 7.98834428e-03]\n",
      " [9.21662974e-01 3.47794106e-02 5.20934042e-05 7.84772543e-01]\n",
      " [7.99444261e-01 1.32920364e-03 2.28155631e-03 2.26921196e-01]\n",
      " [7.88349298e-01 4.15691821e-01 6.68717783e-02 1.14746984e-01]]\n"
     ]
    }
   ],
   "source": [
    "np.full((2,4),111)\n",
    "ran=np.random.random((4,4)) ** 4\n",
    "print(ran)"
   ]
  },
  {
   "cell_type": "code",
   "execution_count": null,
   "id": "69175278",
   "metadata": {},
   "outputs": [
    {
     "name": "stdout",
     "output_type": "stream",
     "text": [
      "4\n",
      "[ 5 50 55]\n",
      "[11 22 33 44 55]\n"
     ]
    }
   ],
   "source": [
    "### array slicing and indexing\n",
    "arr=np.array([[1,2,3,4,5],[10,20,30,40,50],[11,22,33,44,55]])\n",
    "print(arr[0,3])\n",
    "print(arr[:,4])\n",
    "print(arr[2])\n"
   ]
  },
  {
   "cell_type": "code",
   "execution_count": 69,
   "id": "d3e770fa",
   "metadata": {},
   "outputs": [
    {
     "name": "stdout",
     "output_type": "stream",
     "text": [
      "[ 2  4 10 20 30 40 50 22 44]\n"
     ]
    }
   ],
   "source": [
    "### Filter with mask\n",
    "mask = arr%2==0\n",
    "print(arr[mask])"
   ]
  },
  {
   "cell_type": "code",
   "execution_count": 81,
   "id": "5f1640f4",
   "metadata": {},
   "outputs": [],
   "source": [
    "number = np.array([1,2,3,4,5,6,7,8,9,10])"
   ]
  },
  {
   "cell_type": "code",
   "execution_count": 82,
   "id": "f2c2fc01",
   "metadata": {},
   "outputs": [
    {
     "data": {
      "text/plain": [
       "array([[1, 2],\n",
       "       [3, 2]])"
      ]
     },
     "execution_count": 82,
     "metadata": {},
     "output_type": "execute_result"
    }
   ],
   "source": [
    "# fancy indexing\n",
    "indices=[[0,1],[2,1]]\n",
    "number[indices]"
   ]
  },
  {
   "cell_type": "code",
   "execution_count": 83,
   "id": "dd880ee1",
   "metadata": {},
   "outputs": [
    {
     "data": {
      "text/plain": [
       "array([ 6,  7,  8,  9, 10])"
      ]
     },
     "execution_count": 83,
     "metadata": {},
     "output_type": "execute_result"
    }
   ],
   "source": [
    "### where()\n",
    "result=np.where(number>5)\n",
    "number[result]"
   ]
  },
  {
   "cell_type": "code",
   "execution_count": 89,
   "id": "65672566",
   "metadata": {},
   "outputs": [
    {
     "name": "stdout",
     "output_type": "stream",
     "text": [
      "[  1   2   9  16  25  36  49  64  81 100]\n"
     ]
    }
   ],
   "source": [
    "## condition array\n",
    "ca=np.where(number >=3 , number**2 , number)\n",
    "print(ca)"
   ]
  }
 ],
 "metadata": {
  "kernelspec": {
   "display_name": "myenv",
   "language": "python",
   "name": "python3"
  },
  "language_info": {
   "codemirror_mode": {
    "name": "ipython",
    "version": 3
   },
   "file_extension": ".py",
   "mimetype": "text/x-python",
   "name": "python",
   "nbconvert_exporter": "python",
   "pygments_lexer": "ipython3",
   "version": "3.13.5"
  }
 },
 "nbformat": 4,
 "nbformat_minor": 5
}
